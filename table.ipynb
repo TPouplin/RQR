{
 "cells": [
  {
   "cell_type": "code",
   "execution_count": 3,
   "metadata": {},
   "outputs": [],
   "source": [
    "import pandas as pd \n",
    "import numpy as np\n"
   ]
  },
  {
   "cell_type": "code",
   "execution_count": 16,
   "metadata": {},
   "outputs": [
    {
     "name": "stdout",
     "output_type": "stream",
     "text": [
      "  dataset loss seed  coverage    length  target      lr  dropout\n",
      "0  boston   WS    0  0.872549  1.269929     0.9  0.0001      0.1\n",
      "1  boston   WS    1  0.823529  1.102026     0.9  0.0100      0.1\n",
      "2  boston   WS    2  0.823529  1.202558     0.9  0.0100      0.2\n",
      "3  boston   WS    3  0.921569  1.321642     0.9  0.0500      0.1\n",
      "4  boston   WS    4  0.862745  1.124870     0.9  0.0500      0.1\n"
     ]
    },
    {
     "name": "stderr",
     "output_type": "stream",
     "text": [
      "/tmp/ipykernel_1960762/3371104439.py:10: FutureWarning: The behavior of DataFrame concatenation with empty or all-NA entries is deprecated. In a future version, this will no longer exclude empty or all-NA columns when determining the result dtypes. To retain the old behavior, exclude the relevant entries before the concat operation.\n",
      "  results = pd.concat([results, pd.read_csv(f\"results/finetuning/results_{d}_{l}.csv\")])\n"
     ]
    }
   ],
   "source": [
    "datasets = [\"boston\", \"concrete\", \"energy\", \"kin8nm\", \"naval\", \"wine\"]\n",
    "losses = [\"WS\",\"RQR-W\",\"SQR\",\"SQRN\",\"IR\"]\n",
    "\n",
    "results = pd.DataFrame(columns=[\"dataset\",\"loss\",\"seed\",\"coverage\",\"length\",\"target\",\"lr\",\"dropout\"])\n",
    "\n",
    "\n",
    "\n",
    "for d in datasets:\n",
    "    for l in losses:\n",
    "        results = pd.concat([results, pd.read_csv(f\"results/finetuning/results_{d}_{l}.csv\")])\n",
    "\n",
    "results = results.drop(columns=[\"Unnamed: 0\"])\n",
    "results.to_csv(\"results/finetuning/test_results.csv\", index=False)\n",
    "\n",
    "print(results.head())        "
   ]
  },
  {
   "cell_type": "code",
   "execution_count": 17,
   "metadata": {},
   "outputs": [
    {
     "name": "stdout",
     "output_type": "stream",
     "text": [
      "[0 1 2 3 4 5 6 7 8 9]\n"
     ]
    }
   ],
   "source": [
    "results = pd.read_csv('results/finetuning/test_results.csv')\n",
    "results = results.drop(columns=[\"lr\",\"dropout\"]).rename(columns={\"length\":\"width\"})\n",
    "\n",
    "results_mean = results.groupby(['dataset','loss']).mean().drop(columns=[\"seed\"])\n",
    "results_std = results.groupby(['dataset','loss']).std().drop(columns=[\"seed\"])\n",
    "results_count = results.groupby(['dataset','loss']).count().drop(columns=[\"seed\"])\n",
    "\n",
    "\n",
    "# print(results[(results[\"dataset\"]==\"boston\") & (results[\"loss\"]==\"QR\")])\n",
    "\n",
    "print(results[\"seed\"].unique())"
   ]
  },
  {
   "cell_type": "code",
   "execution_count": 18,
   "metadata": {},
   "outputs": [
    {
     "name": "stdout",
     "output_type": "stream",
     "text": [
      "                coverage     width  target\n",
      "dataset  loss                             \n",
      "boston   IR     0.888235  1.369743     0.9\n",
      "         RQR-W  0.871569  1.079876     0.9\n",
      "         SQR    0.841177  1.120665     0.9\n",
      "         SQRN   0.829412  1.033183     0.9\n",
      "         WS     0.853922  1.209413     0.9\n",
      "concrete IR     0.900000  1.648282     0.9\n",
      "         RQR-W  0.873301  1.359750     0.9\n",
      "         SQR    0.863107  1.400728     0.9\n",
      "         SQRN   0.862621  1.346575     0.9\n",
      "         WS     0.858252  1.444327     0.9\n",
      "energy   IR     0.888312  1.576104     0.9\n",
      "         RQR-W  0.885714  1.243856     0.9\n",
      "         SQR    0.885714  1.301628     0.9\n",
      "         SQRN   0.862987  1.235041     0.9\n",
      "         WS     0.880519  1.247771     0.9\n",
      "kin8nm   IR     0.902318  1.360479     0.9\n",
      "         RQR-W  0.876266  1.149857     0.9\n",
      "         SQR    0.875900  1.151694     0.9\n",
      "         SQRN   0.858450  1.118103     0.9\n",
      "         WS     0.874497  1.161044     0.9\n",
      "naval    IR     0.897696  2.563242     0.9\n",
      "         RQR-W  0.890071  0.031671     0.9\n",
      "         SQR    0.892585  0.324223     0.9\n",
      "         SQRN   0.884709  0.319214     0.9\n",
      "         WS     0.880561  0.022612     0.9\n",
      "wine     IR     0.904375  1.073063     0.9\n",
      "         RQR-W  0.897813  0.420696     0.9\n",
      "         SQR    0.900313  0.459316     0.9\n",
      "         SQRN   0.868750  0.445644     0.9\n",
      "         WS     0.929688  0.373481     0.9\n"
     ]
    }
   ],
   "source": []
  },
  {
   "cell_type": "code",
   "execution_count": 19,
   "metadata": {},
   "outputs": [
    {
     "name": "stdout",
     "output_type": "stream",
     "text": [
      "\\begin{tabular}{lllllll}\n",
      "\\toprule\n",
      " &  & RQR-W & SQR & SQRN & WS & IR \\\\\n",
      "dataset & metric &  &  &  &  &  \\\\\n",
      "\\midrule\n",
      "\\multirow[t]{2}{*}{boston} & coverage & 0.87 (0.01) & 0.84 (0.01) & 0.83 (0.01) & 0.85 (0.01) & 0.89 (0.01) \\\\\n",
      " & width & 1.08 (0.01) & 1.12 (0.04) & 1.03 (0.03) & 1.21 (0.02) & 1.37 (0.06) \\\\\n",
      "\\cline{1-7}\n",
      "\\multirow[t]{2}{*}{concrete} & coverage & 0.87 (0.01) & 0.86 (0.01) & 0.86 (0.02) & 0.86 (0.01) & 0.90 (0.01) \\\\\n",
      " & width & 1.36 (0.02) & 1.40 (0.04) & 1.35 (0.03) & 1.44 (0.02) & 1.65 (0.12) \\\\\n",
      "\\cline{1-7}\n",
      "\\multirow[t]{2}{*}{energy} & coverage & 0.89 (0.01) & 0.89 (0.01) & 0.86 (0.01) & 0.88 (0.02) & 0.89 (0.01) \\\\\n",
      " & width & 1.24 (0.02) & 1.30 (0.01) & 1.24 (0.01) & 1.25 (0.02) & 1.58 (0.15) \\\\\n",
      "\\cline{1-7}\n",
      "\\multirow[t]{2}{*}{kin8nm} & coverage & 0.88 (0.00) & 0.88 (0.00) & 0.86 (0.01) & 0.87 (0.00) & 0.90 (0.00) \\\\\n",
      " & width & 1.15 (0.00) & 1.15 (0.01) & 1.12 (0.01) & 1.16 (0.00) & 1.36 (0.05) \\\\\n",
      "\\cline{1-7}\n",
      "\\multirow[t]{2}{*}{naval} & coverage & 0.89 (0.00) & 0.89 (0.01) & 0.88 (0.01) & 0.88 (0.00) & 0.90 (0.00) \\\\\n",
      " & width & 0.03 (0.00) & 0.32 (0.02) & 0.32 (0.02) & 0.02 (0.00) & 2.56 (0.21) \\\\\n",
      "\\cline{1-7}\n",
      "\\multirow[t]{2}{*}{wine} & coverage & 0.90 (0.00) & 0.90 (0.01) & 0.87 (0.01) & 0.93 (0.01) & 0.90 (0.01) \\\\\n",
      " & width & 0.42 (0.01) & 0.46 (0.03) & 0.45 (0.03) & 0.37 (0.01) & 1.07 (0.16) \\\\\n",
      "\\cline{1-7}\n",
      "\\bottomrule\n",
      "\\end{tabular}\n",
      "\n"
     ]
    }
   ],
   "source": [
    "#Table 1 \n",
    "loss = [\"RQR-W\",\"SQR\",\"SQRN\",\"WS\",\"IR\"]\n",
    "datasets = results[\"dataset\"].unique()\n",
    "datasets = [\"boston\", \"concrete\", \"energy\", \"kin8nm\", \"naval\", \"wine\"]\n",
    "metrics = [\"coverage\",\"width\"]\n",
    "\n",
    "index = pd.MultiIndex.from_product([datasets,metrics], names = [\"dataset\",\"metric\"])\n",
    "\n",
    "table1 = pd.DataFrame(columns=loss, index= index)\n",
    "\n",
    "for (dataset,metric) in index:\n",
    "    for l in loss:\n",
    "        table1.loc[(dataset,metric),l] = f'''{\"{:.2f}\".format(results_mean.loc[(dataset,l),metric])} ({\"{:.2f}\".format(results_std.loc[(dataset,l),metric]/np.sqrt(10))})'''\n",
    "print(table1.to_latex())"
   ]
  },
  {
   "cell_type": "code",
   "execution_count": null,
   "metadata": {},
   "outputs": [],
   "source": [
    "#Table 1.5\n",
    "loss = [\"RQR-W\",\"SQR\",\"SQRN\",\"WS\",\"IR\"]\n",
    "datasets = results[\"dataset\"].unique()\n",
    "datasets = [\"boston\", \"concrete\", \"energy\", \"kin8nm\", \"naval\", \"wine\"]\n",
    "metrics = [\"coverage\",\"width\"]\n",
    "    \n",
    "index = pd.MultiIndex.from_product([datasets,metrics], names = [\"dataset\",\"metric\"])\n",
    "\n",
    "table1 = pd.DataFrame(columns=loss, index= index)\n",
    "\n",
    "for (dataset,metric) in index:\n",
    "    for l in loss:\n",
    "        table1.loc[(dataset,metric),l] = f'''{\"{:.2f}\".format(results_mean.loc[(dataset,l),metric])} ({\"{:.2f}\".format(results_std.loc[(dataset,l),metric]/np.sqrt(10))})'''\n",
    "print(table1.to_latex())"
   ]
  },
  {
   "cell_type": "code",
   "execution_count": 20,
   "metadata": {},
   "outputs": [
    {
     "ename": "KeyError",
     "evalue": "('boston', 'SWS')",
     "output_type": "error",
     "traceback": [
      "\u001b[0;31m---------------------------------------------------------------------------\u001b[0m",
      "\u001b[0;31mKeyError\u001b[0m                                  Traceback (most recent call last)",
      "File \u001b[0;32m~/miniconda/envs/IRM/lib/python3.10/site-packages/pandas/core/indexes/base.py:3791\u001b[0m, in \u001b[0;36mIndex.get_loc\u001b[0;34m(self, key)\u001b[0m\n\u001b[1;32m   3790\u001b[0m \u001b[38;5;28;01mtry\u001b[39;00m:\n\u001b[0;32m-> 3791\u001b[0m     \u001b[38;5;28;01mreturn\u001b[39;00m \u001b[38;5;28;43mself\u001b[39;49m\u001b[38;5;241;43m.\u001b[39;49m\u001b[43m_engine\u001b[49m\u001b[38;5;241;43m.\u001b[39;49m\u001b[43mget_loc\u001b[49m\u001b[43m(\u001b[49m\u001b[43mcasted_key\u001b[49m\u001b[43m)\u001b[49m\n\u001b[1;32m   3792\u001b[0m \u001b[38;5;28;01mexcept\u001b[39;00m \u001b[38;5;167;01mKeyError\u001b[39;00m \u001b[38;5;28;01mas\u001b[39;00m err:\n",
      "File \u001b[0;32mindex.pyx:152\u001b[0m, in \u001b[0;36mpandas._libs.index.IndexEngine.get_loc\u001b[0;34m()\u001b[0m\n",
      "File \u001b[0;32mindex.pyx:181\u001b[0m, in \u001b[0;36mpandas._libs.index.IndexEngine.get_loc\u001b[0;34m()\u001b[0m\n",
      "File \u001b[0;32mpandas/_libs/hashtable_class_helper.pxi:7080\u001b[0m, in \u001b[0;36mpandas._libs.hashtable.PyObjectHashTable.get_item\u001b[0;34m()\u001b[0m\n",
      "File \u001b[0;32mpandas/_libs/hashtable_class_helper.pxi:7088\u001b[0m, in \u001b[0;36mpandas._libs.hashtable.PyObjectHashTable.get_item\u001b[0;34m()\u001b[0m\n",
      "\u001b[0;31mKeyError\u001b[0m: 'SWS'",
      "\nThe above exception was the direct cause of the following exception:\n",
      "\u001b[0;31mKeyError\u001b[0m                                  Traceback (most recent call last)",
      "File \u001b[0;32mindex.pyx:842\u001b[0m, in \u001b[0;36mpandas._libs.index.BaseMultiIndexCodesEngine.get_loc\u001b[0;34m()\u001b[0m\n",
      "File \u001b[0;32m~/miniconda/envs/IRM/lib/python3.10/site-packages/pandas/core/indexes/base.py:3798\u001b[0m, in \u001b[0;36mIndex.get_loc\u001b[0;34m(self, key)\u001b[0m\n\u001b[1;32m   3797\u001b[0m         \u001b[38;5;28;01mraise\u001b[39;00m InvalidIndexError(key)\n\u001b[0;32m-> 3798\u001b[0m     \u001b[38;5;28;01mraise\u001b[39;00m \u001b[38;5;167;01mKeyError\u001b[39;00m(key) \u001b[38;5;28;01mfrom\u001b[39;00m \u001b[38;5;21;01merr\u001b[39;00m\n\u001b[1;32m   3799\u001b[0m \u001b[38;5;28;01mexcept\u001b[39;00m \u001b[38;5;167;01mTypeError\u001b[39;00m:\n\u001b[1;32m   3800\u001b[0m     \u001b[38;5;66;03m# If we have a listlike key, _check_indexing_error will raise\u001b[39;00m\n\u001b[1;32m   3801\u001b[0m     \u001b[38;5;66;03m#  InvalidIndexError. Otherwise we fall through and re-raise\u001b[39;00m\n\u001b[1;32m   3802\u001b[0m     \u001b[38;5;66;03m#  the TypeError.\u001b[39;00m\n",
      "\u001b[0;31mKeyError\u001b[0m: 'SWS'",
      "\nDuring handling of the above exception, another exception occurred:\n",
      "\u001b[0;31mKeyError\u001b[0m                                  Traceback (most recent call last)",
      "File \u001b[0;32m~/miniconda/envs/IRM/lib/python3.10/site-packages/pandas/core/indexes/multi.py:3105\u001b[0m, in \u001b[0;36mMultiIndex._get_loc_level\u001b[0;34m(self, key, level)\u001b[0m\n\u001b[1;32m   3104\u001b[0m \u001b[38;5;28;01mtry\u001b[39;00m:\n\u001b[0;32m-> 3105\u001b[0m     \u001b[38;5;28;01mreturn\u001b[39;00m (\u001b[38;5;28;43mself\u001b[39;49m\u001b[38;5;241;43m.\u001b[39;49m\u001b[43m_engine\u001b[49m\u001b[38;5;241;43m.\u001b[39;49m\u001b[43mget_loc\u001b[49m\u001b[43m(\u001b[49m\u001b[43mkey\u001b[49m\u001b[43m)\u001b[49m, \u001b[38;5;28;01mNone\u001b[39;00m)\n\u001b[1;32m   3106\u001b[0m \u001b[38;5;28;01mexcept\u001b[39;00m \u001b[38;5;167;01mKeyError\u001b[39;00m \u001b[38;5;28;01mas\u001b[39;00m err:\n",
      "File \u001b[0;32mindex.pyx:845\u001b[0m, in \u001b[0;36mpandas._libs.index.BaseMultiIndexCodesEngine.get_loc\u001b[0;34m()\u001b[0m\n",
      "\u001b[0;31mKeyError\u001b[0m: ('boston', 'SWS')",
      "\nThe above exception was the direct cause of the following exception:\n",
      "\u001b[0;31mKeyError\u001b[0m                                  Traceback (most recent call last)",
      "Cell \u001b[0;32mIn[20], line 12\u001b[0m\n\u001b[1;32m     10\u001b[0m \u001b[38;5;28;01mfor\u001b[39;00m (dataset,metric) \u001b[38;5;129;01min\u001b[39;00m index:\n\u001b[1;32m     11\u001b[0m     \u001b[38;5;28;01mfor\u001b[39;00m l \u001b[38;5;129;01min\u001b[39;00m loss:\n\u001b[0;32m---> 12\u001b[0m         table2\u001b[38;5;241m.\u001b[39mloc[(dataset,metric),l] \u001b[38;5;241m=\u001b[39m \u001b[43mresults_mean\u001b[49m\u001b[38;5;241;43m.\u001b[39;49m\u001b[43mloc\u001b[49m\u001b[43m[\u001b[49m\u001b[43m(\u001b[49m\u001b[43mdataset\u001b[49m\u001b[43m,\u001b[49m\u001b[43ml\u001b[49m\u001b[43m)\u001b[49m\u001b[43m,\u001b[49m\u001b[43mmetric\u001b[49m\u001b[43m]\u001b[49m\n\u001b[1;32m     13\u001b[0m \u001b[38;5;28mprint\u001b[39m(table2)\n\u001b[1;32m     14\u001b[0m \u001b[38;5;28mprint\u001b[39m(table2\u001b[38;5;241m.\u001b[39mgroupby(\u001b[38;5;124m\"\u001b[39m\u001b[38;5;124mmetric\u001b[39m\u001b[38;5;124m\"\u001b[39m)\u001b[38;5;241m.\u001b[39mmean())\n",
      "File \u001b[0;32m~/miniconda/envs/IRM/lib/python3.10/site-packages/pandas/core/indexing.py:1147\u001b[0m, in \u001b[0;36m_LocationIndexer.__getitem__\u001b[0;34m(self, key)\u001b[0m\n\u001b[1;32m   1145\u001b[0m     \u001b[38;5;28;01mif\u001b[39;00m \u001b[38;5;28mself\u001b[39m\u001b[38;5;241m.\u001b[39m_is_scalar_access(key):\n\u001b[1;32m   1146\u001b[0m         \u001b[38;5;28;01mreturn\u001b[39;00m \u001b[38;5;28mself\u001b[39m\u001b[38;5;241m.\u001b[39mobj\u001b[38;5;241m.\u001b[39m_get_value(\u001b[38;5;241m*\u001b[39mkey, takeable\u001b[38;5;241m=\u001b[39m\u001b[38;5;28mself\u001b[39m\u001b[38;5;241m.\u001b[39m_takeable)\n\u001b[0;32m-> 1147\u001b[0m     \u001b[38;5;28;01mreturn\u001b[39;00m \u001b[38;5;28;43mself\u001b[39;49m\u001b[38;5;241;43m.\u001b[39;49m\u001b[43m_getitem_tuple\u001b[49m\u001b[43m(\u001b[49m\u001b[43mkey\u001b[49m\u001b[43m)\u001b[49m\n\u001b[1;32m   1148\u001b[0m \u001b[38;5;28;01melse\u001b[39;00m:\n\u001b[1;32m   1149\u001b[0m     \u001b[38;5;66;03m# we by definition only have the 0th axis\u001b[39;00m\n\u001b[1;32m   1150\u001b[0m     axis \u001b[38;5;241m=\u001b[39m \u001b[38;5;28mself\u001b[39m\u001b[38;5;241m.\u001b[39maxis \u001b[38;5;129;01mor\u001b[39;00m \u001b[38;5;241m0\u001b[39m\n",
      "File \u001b[0;32m~/miniconda/envs/IRM/lib/python3.10/site-packages/pandas/core/indexing.py:1330\u001b[0m, in \u001b[0;36m_LocIndexer._getitem_tuple\u001b[0;34m(self, tup)\u001b[0m\n\u001b[1;32m   1328\u001b[0m \u001b[38;5;28;01mwith\u001b[39;00m suppress(IndexingError):\n\u001b[1;32m   1329\u001b[0m     tup \u001b[38;5;241m=\u001b[39m \u001b[38;5;28mself\u001b[39m\u001b[38;5;241m.\u001b[39m_expand_ellipsis(tup)\n\u001b[0;32m-> 1330\u001b[0m     \u001b[38;5;28;01mreturn\u001b[39;00m \u001b[38;5;28;43mself\u001b[39;49m\u001b[38;5;241;43m.\u001b[39;49m\u001b[43m_getitem_lowerdim\u001b[49m\u001b[43m(\u001b[49m\u001b[43mtup\u001b[49m\u001b[43m)\u001b[49m\n\u001b[1;32m   1332\u001b[0m \u001b[38;5;66;03m# no multi-index, so validate all of the indexers\u001b[39;00m\n\u001b[1;32m   1333\u001b[0m tup \u001b[38;5;241m=\u001b[39m \u001b[38;5;28mself\u001b[39m\u001b[38;5;241m.\u001b[39m_validate_tuple_indexer(tup)\n",
      "File \u001b[0;32m~/miniconda/envs/IRM/lib/python3.10/site-packages/pandas/core/indexing.py:1015\u001b[0m, in \u001b[0;36m_LocationIndexer._getitem_lowerdim\u001b[0;34m(self, tup)\u001b[0m\n\u001b[1;32m   1013\u001b[0m \u001b[38;5;66;03m# we may have a nested tuples indexer here\u001b[39;00m\n\u001b[1;32m   1014\u001b[0m \u001b[38;5;28;01mif\u001b[39;00m \u001b[38;5;28mself\u001b[39m\u001b[38;5;241m.\u001b[39m_is_nested_tuple_indexer(tup):\n\u001b[0;32m-> 1015\u001b[0m     \u001b[38;5;28;01mreturn\u001b[39;00m \u001b[38;5;28;43mself\u001b[39;49m\u001b[38;5;241;43m.\u001b[39;49m\u001b[43m_getitem_nested_tuple\u001b[49m\u001b[43m(\u001b[49m\u001b[43mtup\u001b[49m\u001b[43m)\u001b[49m\n\u001b[1;32m   1017\u001b[0m \u001b[38;5;66;03m# we maybe be using a tuple to represent multiple dimensions here\u001b[39;00m\n\u001b[1;32m   1018\u001b[0m ax0 \u001b[38;5;241m=\u001b[39m \u001b[38;5;28mself\u001b[39m\u001b[38;5;241m.\u001b[39mobj\u001b[38;5;241m.\u001b[39m_get_axis(\u001b[38;5;241m0\u001b[39m)\n",
      "File \u001b[0;32m~/miniconda/envs/IRM/lib/python3.10/site-packages/pandas/core/indexing.py:1127\u001b[0m, in \u001b[0;36m_LocationIndexer._getitem_nested_tuple\u001b[0;34m(self, tup)\u001b[0m\n\u001b[1;32m   1124\u001b[0m     axis \u001b[38;5;241m-\u001b[39m\u001b[38;5;241m=\u001b[39m \u001b[38;5;241m1\u001b[39m\n\u001b[1;32m   1125\u001b[0m     \u001b[38;5;28;01mcontinue\u001b[39;00m\n\u001b[0;32m-> 1127\u001b[0m obj \u001b[38;5;241m=\u001b[39m \u001b[38;5;28;43mgetattr\u001b[39;49m\u001b[43m(\u001b[49m\u001b[43mobj\u001b[49m\u001b[43m,\u001b[49m\u001b[43m \u001b[49m\u001b[38;5;28;43mself\u001b[39;49m\u001b[38;5;241;43m.\u001b[39;49m\u001b[43mname\u001b[49m\u001b[43m)\u001b[49m\u001b[38;5;241;43m.\u001b[39;49m\u001b[43m_getitem_axis\u001b[49m\u001b[43m(\u001b[49m\u001b[43mkey\u001b[49m\u001b[43m,\u001b[49m\u001b[43m \u001b[49m\u001b[43maxis\u001b[49m\u001b[38;5;241;43m=\u001b[39;49m\u001b[43maxis\u001b[49m\u001b[43m)\u001b[49m\n\u001b[1;32m   1128\u001b[0m axis \u001b[38;5;241m-\u001b[39m\u001b[38;5;241m=\u001b[39m \u001b[38;5;241m1\u001b[39m\n\u001b[1;32m   1130\u001b[0m \u001b[38;5;66;03m# if we have a scalar, we are done\u001b[39;00m\n",
      "File \u001b[0;32m~/miniconda/envs/IRM/lib/python3.10/site-packages/pandas/core/indexing.py:1393\u001b[0m, in \u001b[0;36m_LocIndexer._getitem_axis\u001b[0;34m(self, key, axis)\u001b[0m\n\u001b[1;32m   1391\u001b[0m \u001b[38;5;66;03m# fall thru to straight lookup\u001b[39;00m\n\u001b[1;32m   1392\u001b[0m \u001b[38;5;28mself\u001b[39m\u001b[38;5;241m.\u001b[39m_validate_key(key, axis)\n\u001b[0;32m-> 1393\u001b[0m \u001b[38;5;28;01mreturn\u001b[39;00m \u001b[38;5;28;43mself\u001b[39;49m\u001b[38;5;241;43m.\u001b[39;49m\u001b[43m_get_label\u001b[49m\u001b[43m(\u001b[49m\u001b[43mkey\u001b[49m\u001b[43m,\u001b[49m\u001b[43m \u001b[49m\u001b[43maxis\u001b[49m\u001b[38;5;241;43m=\u001b[39;49m\u001b[43maxis\u001b[49m\u001b[43m)\u001b[49m\n",
      "File \u001b[0;32m~/miniconda/envs/IRM/lib/python3.10/site-packages/pandas/core/indexing.py:1343\u001b[0m, in \u001b[0;36m_LocIndexer._get_label\u001b[0;34m(self, label, axis)\u001b[0m\n\u001b[1;32m   1341\u001b[0m \u001b[38;5;28;01mdef\u001b[39;00m \u001b[38;5;21m_get_label\u001b[39m(\u001b[38;5;28mself\u001b[39m, label, axis: AxisInt):\n\u001b[1;32m   1342\u001b[0m     \u001b[38;5;66;03m# GH#5567 this will fail if the label is not present in the axis.\u001b[39;00m\n\u001b[0;32m-> 1343\u001b[0m     \u001b[38;5;28;01mreturn\u001b[39;00m \u001b[38;5;28;43mself\u001b[39;49m\u001b[38;5;241;43m.\u001b[39;49m\u001b[43mobj\u001b[49m\u001b[38;5;241;43m.\u001b[39;49m\u001b[43mxs\u001b[49m\u001b[43m(\u001b[49m\u001b[43mlabel\u001b[49m\u001b[43m,\u001b[49m\u001b[43m \u001b[49m\u001b[43maxis\u001b[49m\u001b[38;5;241;43m=\u001b[39;49m\u001b[43maxis\u001b[49m\u001b[43m)\u001b[49m\n",
      "File \u001b[0;32m~/miniconda/envs/IRM/lib/python3.10/site-packages/pandas/core/generic.py:4228\u001b[0m, in \u001b[0;36mNDFrame.xs\u001b[0;34m(self, key, axis, level, drop_level)\u001b[0m\n\u001b[1;32m   4225\u001b[0m     index \u001b[38;5;241m=\u001b[39m \u001b[38;5;28mself\u001b[39m\u001b[38;5;241m.\u001b[39mindex\n\u001b[1;32m   4227\u001b[0m \u001b[38;5;28;01mif\u001b[39;00m \u001b[38;5;28misinstance\u001b[39m(index, MultiIndex):\n\u001b[0;32m-> 4228\u001b[0m     loc, new_index \u001b[38;5;241m=\u001b[39m \u001b[43mindex\u001b[49m\u001b[38;5;241;43m.\u001b[39;49m\u001b[43m_get_loc_level\u001b[49m\u001b[43m(\u001b[49m\u001b[43mkey\u001b[49m\u001b[43m,\u001b[49m\u001b[43m \u001b[49m\u001b[43mlevel\u001b[49m\u001b[38;5;241;43m=\u001b[39;49m\u001b[38;5;241;43m0\u001b[39;49m\u001b[43m)\u001b[49m\n\u001b[1;32m   4229\u001b[0m     \u001b[38;5;28;01mif\u001b[39;00m \u001b[38;5;129;01mnot\u001b[39;00m drop_level:\n\u001b[1;32m   4230\u001b[0m         \u001b[38;5;28;01mif\u001b[39;00m lib\u001b[38;5;241m.\u001b[39mis_integer(loc):\n\u001b[1;32m   4231\u001b[0m             \u001b[38;5;66;03m# Slice index must be an integer or None\u001b[39;00m\n",
      "File \u001b[0;32m~/miniconda/envs/IRM/lib/python3.10/site-packages/pandas/core/indexes/multi.py:3107\u001b[0m, in \u001b[0;36mMultiIndex._get_loc_level\u001b[0;34m(self, key, level)\u001b[0m\n\u001b[1;32m   3105\u001b[0m     \u001b[38;5;28;01mreturn\u001b[39;00m (\u001b[38;5;28mself\u001b[39m\u001b[38;5;241m.\u001b[39m_engine\u001b[38;5;241m.\u001b[39mget_loc(key), \u001b[38;5;28;01mNone\u001b[39;00m)\n\u001b[1;32m   3106\u001b[0m \u001b[38;5;28;01mexcept\u001b[39;00m \u001b[38;5;167;01mKeyError\u001b[39;00m \u001b[38;5;28;01mas\u001b[39;00m err:\n\u001b[0;32m-> 3107\u001b[0m     \u001b[38;5;28;01mraise\u001b[39;00m \u001b[38;5;167;01mKeyError\u001b[39;00m(key) \u001b[38;5;28;01mfrom\u001b[39;00m \u001b[38;5;21;01merr\u001b[39;00m\n\u001b[1;32m   3108\u001b[0m \u001b[38;5;28;01mexcept\u001b[39;00m \u001b[38;5;167;01mTypeError\u001b[39;00m:\n\u001b[1;32m   3109\u001b[0m     \u001b[38;5;66;03m# e.g. partial string indexing\u001b[39;00m\n\u001b[1;32m   3110\u001b[0m     \u001b[38;5;66;03m#  test_partial_string_timestamp_multiindex\u001b[39;00m\n\u001b[1;32m   3111\u001b[0m     \u001b[38;5;28;01mpass\u001b[39;00m\n",
      "\u001b[0;31mKeyError\u001b[0m: ('boston', 'SWS')"
     ]
    }
   ],
   "source": [
    "# Table 2\n",
    "loss = [\"WS\", \"SWS\",\"SQR\",\"SQRN\", \"RQR-W\", \"QR\" ,\"IR\"]\n",
    "datasets = results[\"dataset\"].unique()\n",
    "metrics = [\"coverage\",\"width\"]\n",
    "\n",
    "index = pd.MultiIndex.from_product([datasets,metrics], names = [\"dataset\",\"metric\"])\n",
    "\n",
    "table2 = pd.DataFrame(columns=loss , index= index)\n",
    "\n",
    "for (dataset,metric) in index:\n",
    "    for l in loss:\n",
    "        table2.loc[(dataset,metric),l] = results_mean.loc[(dataset,l),metric]\n",
    "print(table2)\n",
    "print(table2.groupby(\"metric\").mean())"
   ]
  },
  {
   "cell_type": "code",
   "execution_count": null,
   "metadata": {},
   "outputs": [
    {
     "name": "stdout",
     "output_type": "stream",
     "text": [
      "Coverage: 0.1\n",
      "                        WS       SQR     RQR-W        QR        IR\n",
      "dataset metric                                                    \n",
      "sulfur  coverage  0.103768  0.108924   0.10114  0.099405  0.100942\n",
      "        width     0.095372   0.07773  0.098603  0.065857  0.584848\n",
      "cpu_act coverage  0.097437  0.036608  0.099634  0.101525  0.100671\n",
      "        width     0.105246   0.06208  0.141083  0.150849  0.521407\n",
      "miami   coverage  0.105562  0.119089  0.101579  0.103086  0.099247\n",
      "        width     0.112969  0.097143  0.132584  0.080182  0.357106\n",
      "                WS       SQR     RQR-W        QR        IR\n",
      "metric                                                    \n",
      "coverage  0.102256  0.088207  0.100784  0.101339  0.100287\n",
      "width     0.104529  0.078984   0.12409  0.098963  0.487787\n",
      "Coverage: 0.2\n",
      "                        WS       SQR     RQR-W        QR        IR\n",
      "dataset metric                                                    \n",
      "sulfur  coverage  0.194745  0.225136  0.191324  0.197967  0.205007\n",
      "        width     0.158907  0.165773   0.14486  0.136201  0.628471\n",
      "cpu_act coverage  0.197132   0.07407  0.198597  0.202501  0.200549\n",
      "        width     0.213246  0.159251  0.246555  0.240922  0.738161\n",
      "miami   coverage  0.202619  0.266774  0.201399  0.202153   0.19695\n",
      "        width     0.199812  0.221885  0.222339  0.161886  0.755996\n",
      "                WS       SQR     RQR-W        QR        IR\n",
      "metric                                                    \n",
      "coverage  0.198165   0.18866  0.197107  0.200874  0.200836\n",
      "width     0.190655  0.182303  0.204585  0.179669  0.707543\n",
      "Coverage: 0.3\n",
      "                        WS       SQR     RQR-W        QR        IR\n",
      "dataset metric                                                    \n",
      "sulfur  coverage  0.294249  0.362767  0.290927  0.293009  0.302776\n",
      "        width     0.241435  0.275567   0.22519  0.209797  1.234868\n",
      "cpu_act coverage  0.292129  0.140207   0.29817  0.294753  0.294936\n",
      "        width     0.309131  0.227709  0.317073  0.296295  0.816763\n",
      "miami   coverage  0.301328  0.388985  0.296304  0.305992  0.301435\n",
      "        width     0.297177  0.345583   0.31665  0.257499  1.001297\n",
      "                WS       SQR     RQR-W        QR        IR\n",
      "metric                                                    \n",
      "coverage  0.295902   0.29732  0.295134  0.297918  0.299716\n",
      "width     0.282581  0.282953  0.286304   0.25453  1.017642\n",
      "Coverage: 0.5\n",
      "                        WS       SQR     RQR-W        QR        IR\n",
      "dataset metric                                                    \n",
      "sulfur  coverage   0.48944  0.556768  0.495488  0.487457  0.496926\n",
      "        width     0.460958  0.457893  0.408039  0.385473  1.156995\n",
      "cpu_act coverage  0.495973  0.394692  0.489872   0.49579       0.5\n",
      "        width     0.492485  0.413807  0.463881  0.467668  1.787264\n",
      "miami   coverage  0.497488  0.571905  0.497991  0.500969  0.493721\n",
      "        width     0.535238  0.598605  0.611811  0.509281  1.027384\n",
      "                WS       SQR     RQR-W        QR        IR\n",
      "metric                                                    \n",
      "coverage    0.4943  0.507788   0.49445  0.494739  0.496882\n",
      "width     0.496227  0.490102  0.494577  0.454141  1.323881\n",
      "Coverage: 0.7\n",
      "                        WS       SQR     RQR-W        QR        IR\n",
      "dataset metric                                                    \n",
      "sulfur  coverage  0.690431  0.721765  0.689043  0.687655  0.692117\n",
      "        width      0.75056  0.659193  0.672144  0.620606  1.420097\n",
      "cpu_act coverage  0.712813  0.695241    0.6928  0.698353  0.701952\n",
      "        width     0.855654  0.594104  0.569695  0.577214  2.993753\n",
      "miami   coverage  0.703086  0.726157  0.697596  0.690743  0.691532\n",
      "        width     0.922149  0.914764  0.905185  0.851017  1.385892\n",
      "                WS       SQR     RQR-W        QR        IR\n",
      "metric                                                    \n",
      "coverage   0.70211  0.714388  0.693147   0.69225  0.695201\n",
      "width     0.842788  0.722687  0.715675  0.682946  1.933247\n",
      "Coverage: 0.8\n",
      "                        WS       SQR     RQR-W        QR        IR\n",
      "dataset metric                                                    \n",
      "sulfur  coverage  0.795885  0.783441  0.787754  0.793505  0.792315\n",
      "        width     0.941799  0.769185  0.847722  0.823934  1.665379\n",
      "cpu_act coverage  0.794143  0.814521  0.803478   0.78798  0.797987\n",
      "        width     1.241238  0.691151  0.638289  0.633267   2.46764\n",
      "miami   coverage  0.798242  0.773807  0.792896  0.788841  0.786329\n",
      "        width     1.242129  1.015757   1.09554  1.105859  1.686633\n",
      "                WS       SQR     RQR-W        QR        IR\n",
      "metric                                                    \n",
      "coverage   0.79609   0.79059  0.794709  0.790109   0.79221\n",
      "width     1.141722  0.825364  0.860517  0.854353  1.939884\n",
      "Coverage: 0.9\n"
     ]
    },
    {
     "ename": "KeyError",
     "evalue": "('sulfur', 'WS', 0.9)",
     "output_type": "error",
     "traceback": [
      "\u001b[0;31m---------------------------------------------------------------------------\u001b[0m",
      "\u001b[0;31mKeyError\u001b[0m                                  Traceback (most recent call last)",
      "File \u001b[0;32m~/miniconda/envs/CRL/lib/python3.10/site-packages/pandas/core/indexes/base.py:3805\u001b[0m, in \u001b[0;36mIndex.get_loc\u001b[0;34m(self, key)\u001b[0m\n\u001b[1;32m   3804\u001b[0m \u001b[38;5;28;01mtry\u001b[39;00m:\n\u001b[0;32m-> 3805\u001b[0m     \u001b[38;5;28;01mreturn\u001b[39;00m \u001b[38;5;28;43mself\u001b[39;49m\u001b[38;5;241;43m.\u001b[39;49m\u001b[43m_engine\u001b[49m\u001b[38;5;241;43m.\u001b[39;49m\u001b[43mget_loc\u001b[49m\u001b[43m(\u001b[49m\u001b[43mcasted_key\u001b[49m\u001b[43m)\u001b[49m\n\u001b[1;32m   3806\u001b[0m \u001b[38;5;28;01mexcept\u001b[39;00m \u001b[38;5;167;01mKeyError\u001b[39;00m \u001b[38;5;28;01mas\u001b[39;00m err:\n",
      "File \u001b[0;32mindex.pyx:167\u001b[0m, in \u001b[0;36mpandas._libs.index.IndexEngine.get_loc\u001b[0;34m()\u001b[0m\n",
      "File \u001b[0;32mindex.pyx:196\u001b[0m, in \u001b[0;36mpandas._libs.index.IndexEngine.get_loc\u001b[0;34m()\u001b[0m\n",
      "File \u001b[0;32mpandas/_libs/hashtable_class_helper.pxi:1698\u001b[0m, in \u001b[0;36mpandas._libs.hashtable.Float64HashTable.get_item\u001b[0;34m()\u001b[0m\n",
      "File \u001b[0;32mpandas/_libs/hashtable_class_helper.pxi:1722\u001b[0m, in \u001b[0;36mpandas._libs.hashtable.Float64HashTable.get_item\u001b[0;34m()\u001b[0m\n",
      "\u001b[0;31mKeyError\u001b[0m: 0.9",
      "\nThe above exception was the direct cause of the following exception:\n",
      "\u001b[0;31mKeyError\u001b[0m                                  Traceback (most recent call last)",
      "File \u001b[0;32mindex.pyx:768\u001b[0m, in \u001b[0;36mpandas._libs.index.BaseMultiIndexCodesEngine.get_loc\u001b[0;34m()\u001b[0m\n",
      "File \u001b[0;32m~/miniconda/envs/CRL/lib/python3.10/site-packages/pandas/core/indexes/base.py:3812\u001b[0m, in \u001b[0;36mIndex.get_loc\u001b[0;34m(self, key)\u001b[0m\n\u001b[1;32m   3811\u001b[0m         \u001b[38;5;28;01mraise\u001b[39;00m InvalidIndexError(key)\n\u001b[0;32m-> 3812\u001b[0m     \u001b[38;5;28;01mraise\u001b[39;00m \u001b[38;5;167;01mKeyError\u001b[39;00m(key) \u001b[38;5;28;01mfrom\u001b[39;00m \u001b[38;5;21;01merr\u001b[39;00m\n\u001b[1;32m   3813\u001b[0m \u001b[38;5;28;01mexcept\u001b[39;00m \u001b[38;5;167;01mTypeError\u001b[39;00m:\n\u001b[1;32m   3814\u001b[0m     \u001b[38;5;66;03m# If we have a listlike key, _check_indexing_error will raise\u001b[39;00m\n\u001b[1;32m   3815\u001b[0m     \u001b[38;5;66;03m#  InvalidIndexError. Otherwise we fall through and re-raise\u001b[39;00m\n\u001b[1;32m   3816\u001b[0m     \u001b[38;5;66;03m#  the TypeError.\u001b[39;00m\n",
      "\u001b[0;31mKeyError\u001b[0m: 0.9",
      "\nDuring handling of the above exception, another exception occurred:\n",
      "\u001b[0;31mKeyError\u001b[0m                                  Traceback (most recent call last)",
      "File \u001b[0;32m~/miniconda/envs/CRL/lib/python3.10/site-packages/pandas/core/indexes/multi.py:3220\u001b[0m, in \u001b[0;36mMultiIndex._get_loc_level\u001b[0;34m(self, key, level)\u001b[0m\n\u001b[1;32m   3219\u001b[0m \u001b[38;5;28;01mtry\u001b[39;00m:\n\u001b[0;32m-> 3220\u001b[0m     \u001b[38;5;28;01mreturn\u001b[39;00m (\u001b[38;5;28;43mself\u001b[39;49m\u001b[38;5;241;43m.\u001b[39;49m\u001b[43m_engine\u001b[49m\u001b[38;5;241;43m.\u001b[39;49m\u001b[43mget_loc\u001b[49m\u001b[43m(\u001b[49m\u001b[43mkey\u001b[49m\u001b[43m)\u001b[49m, \u001b[38;5;28;01mNone\u001b[39;00m)\n\u001b[1;32m   3221\u001b[0m \u001b[38;5;28;01mexcept\u001b[39;00m \u001b[38;5;167;01mKeyError\u001b[39;00m \u001b[38;5;28;01mas\u001b[39;00m err:\n",
      "File \u001b[0;32mindex.pyx:771\u001b[0m, in \u001b[0;36mpandas._libs.index.BaseMultiIndexCodesEngine.get_loc\u001b[0;34m()\u001b[0m\n",
      "\u001b[0;31mKeyError\u001b[0m: ('sulfur', 'WS', 0.9)",
      "\nThe above exception was the direct cause of the following exception:\n",
      "\u001b[0;31mKeyError\u001b[0m                                  Traceback (most recent call last)",
      "Cell \u001b[0;32mIn[23], line 18\u001b[0m\n\u001b[1;32m     16\u001b[0m \u001b[38;5;28;01mfor\u001b[39;00m (dataset,metric) \u001b[38;5;129;01min\u001b[39;00m index:\n\u001b[1;32m     17\u001b[0m     \u001b[38;5;28;01mfor\u001b[39;00m l \u001b[38;5;129;01min\u001b[39;00m loss:\n\u001b[0;32m---> 18\u001b[0m         table2\u001b[38;5;241m.\u001b[39mloc[(dataset,metric),l] \u001b[38;5;241m=\u001b[39m \u001b[43mresults_mean\u001b[49m\u001b[38;5;241;43m.\u001b[39;49m\u001b[43mloc\u001b[49m\u001b[43m[\u001b[49m\u001b[43m(\u001b[49m\u001b[43mdataset\u001b[49m\u001b[43m,\u001b[49m\u001b[43ml\u001b[49m\u001b[43m,\u001b[49m\u001b[38;5;28;43mfloat\u001b[39;49m\u001b[43m(\u001b[49m\u001b[43mc\u001b[49m\u001b[43m)\u001b[49m\u001b[43m)\u001b[49m\u001b[43m,\u001b[49m\u001b[43mmetric\u001b[49m\u001b[43m]\u001b[49m\n\u001b[1;32m     19\u001b[0m \u001b[38;5;28mprint\u001b[39m(table2)\n\u001b[1;32m     20\u001b[0m \u001b[38;5;28mprint\u001b[39m(table2\u001b[38;5;241m.\u001b[39mgroupby(\u001b[38;5;124m\"\u001b[39m\u001b[38;5;124mmetric\u001b[39m\u001b[38;5;124m\"\u001b[39m)\u001b[38;5;241m.\u001b[39mmean())\n",
      "File \u001b[0;32m~/miniconda/envs/CRL/lib/python3.10/site-packages/pandas/core/indexing.py:1184\u001b[0m, in \u001b[0;36m_LocationIndexer.__getitem__\u001b[0;34m(self, key)\u001b[0m\n\u001b[1;32m   1182\u001b[0m     \u001b[38;5;28;01mif\u001b[39;00m \u001b[38;5;28mself\u001b[39m\u001b[38;5;241m.\u001b[39m_is_scalar_access(key):\n\u001b[1;32m   1183\u001b[0m         \u001b[38;5;28;01mreturn\u001b[39;00m \u001b[38;5;28mself\u001b[39m\u001b[38;5;241m.\u001b[39mobj\u001b[38;5;241m.\u001b[39m_get_value(\u001b[38;5;241m*\u001b[39mkey, takeable\u001b[38;5;241m=\u001b[39m\u001b[38;5;28mself\u001b[39m\u001b[38;5;241m.\u001b[39m_takeable)\n\u001b[0;32m-> 1184\u001b[0m     \u001b[38;5;28;01mreturn\u001b[39;00m \u001b[38;5;28;43mself\u001b[39;49m\u001b[38;5;241;43m.\u001b[39;49m\u001b[43m_getitem_tuple\u001b[49m\u001b[43m(\u001b[49m\u001b[43mkey\u001b[49m\u001b[43m)\u001b[49m\n\u001b[1;32m   1185\u001b[0m \u001b[38;5;28;01melse\u001b[39;00m:\n\u001b[1;32m   1186\u001b[0m     \u001b[38;5;66;03m# we by definition only have the 0th axis\u001b[39;00m\n\u001b[1;32m   1187\u001b[0m     axis \u001b[38;5;241m=\u001b[39m \u001b[38;5;28mself\u001b[39m\u001b[38;5;241m.\u001b[39maxis \u001b[38;5;129;01mor\u001b[39;00m \u001b[38;5;241m0\u001b[39m\n",
      "File \u001b[0;32m~/miniconda/envs/CRL/lib/python3.10/site-packages/pandas/core/indexing.py:1368\u001b[0m, in \u001b[0;36m_LocIndexer._getitem_tuple\u001b[0;34m(self, tup)\u001b[0m\n\u001b[1;32m   1366\u001b[0m \u001b[38;5;28;01mwith\u001b[39;00m suppress(IndexingError):\n\u001b[1;32m   1367\u001b[0m     tup \u001b[38;5;241m=\u001b[39m \u001b[38;5;28mself\u001b[39m\u001b[38;5;241m.\u001b[39m_expand_ellipsis(tup)\n\u001b[0;32m-> 1368\u001b[0m     \u001b[38;5;28;01mreturn\u001b[39;00m \u001b[38;5;28;43mself\u001b[39;49m\u001b[38;5;241;43m.\u001b[39;49m\u001b[43m_getitem_lowerdim\u001b[49m\u001b[43m(\u001b[49m\u001b[43mtup\u001b[49m\u001b[43m)\u001b[49m\n\u001b[1;32m   1370\u001b[0m \u001b[38;5;66;03m# no multi-index, so validate all of the indexers\u001b[39;00m\n\u001b[1;32m   1371\u001b[0m tup \u001b[38;5;241m=\u001b[39m \u001b[38;5;28mself\u001b[39m\u001b[38;5;241m.\u001b[39m_validate_tuple_indexer(tup)\n",
      "File \u001b[0;32m~/miniconda/envs/CRL/lib/python3.10/site-packages/pandas/core/indexing.py:1041\u001b[0m, in \u001b[0;36m_LocationIndexer._getitem_lowerdim\u001b[0;34m(self, tup)\u001b[0m\n\u001b[1;32m   1039\u001b[0m \u001b[38;5;66;03m# we may have a nested tuples indexer here\u001b[39;00m\n\u001b[1;32m   1040\u001b[0m \u001b[38;5;28;01mif\u001b[39;00m \u001b[38;5;28mself\u001b[39m\u001b[38;5;241m.\u001b[39m_is_nested_tuple_indexer(tup):\n\u001b[0;32m-> 1041\u001b[0m     \u001b[38;5;28;01mreturn\u001b[39;00m \u001b[38;5;28;43mself\u001b[39;49m\u001b[38;5;241;43m.\u001b[39;49m\u001b[43m_getitem_nested_tuple\u001b[49m\u001b[43m(\u001b[49m\u001b[43mtup\u001b[49m\u001b[43m)\u001b[49m\n\u001b[1;32m   1043\u001b[0m \u001b[38;5;66;03m# we maybe be using a tuple to represent multiple dimensions here\u001b[39;00m\n\u001b[1;32m   1044\u001b[0m ax0 \u001b[38;5;241m=\u001b[39m \u001b[38;5;28mself\u001b[39m\u001b[38;5;241m.\u001b[39mobj\u001b[38;5;241m.\u001b[39m_get_axis(\u001b[38;5;241m0\u001b[39m)\n",
      "File \u001b[0;32m~/miniconda/envs/CRL/lib/python3.10/site-packages/pandas/core/indexing.py:1153\u001b[0m, in \u001b[0;36m_LocationIndexer._getitem_nested_tuple\u001b[0;34m(self, tup)\u001b[0m\n\u001b[1;32m   1150\u001b[0m     axis \u001b[38;5;241m-\u001b[39m\u001b[38;5;241m=\u001b[39m \u001b[38;5;241m1\u001b[39m\n\u001b[1;32m   1151\u001b[0m     \u001b[38;5;28;01mcontinue\u001b[39;00m\n\u001b[0;32m-> 1153\u001b[0m obj \u001b[38;5;241m=\u001b[39m \u001b[38;5;28;43mgetattr\u001b[39;49m\u001b[43m(\u001b[49m\u001b[43mobj\u001b[49m\u001b[43m,\u001b[49m\u001b[43m \u001b[49m\u001b[38;5;28;43mself\u001b[39;49m\u001b[38;5;241;43m.\u001b[39;49m\u001b[43mname\u001b[49m\u001b[43m)\u001b[49m\u001b[38;5;241;43m.\u001b[39;49m\u001b[43m_getitem_axis\u001b[49m\u001b[43m(\u001b[49m\u001b[43mkey\u001b[49m\u001b[43m,\u001b[49m\u001b[43m \u001b[49m\u001b[43maxis\u001b[49m\u001b[38;5;241;43m=\u001b[39;49m\u001b[43maxis\u001b[49m\u001b[43m)\u001b[49m\n\u001b[1;32m   1154\u001b[0m axis \u001b[38;5;241m-\u001b[39m\u001b[38;5;241m=\u001b[39m \u001b[38;5;241m1\u001b[39m\n\u001b[1;32m   1156\u001b[0m \u001b[38;5;66;03m# if we have a scalar, we are done\u001b[39;00m\n",
      "File \u001b[0;32m~/miniconda/envs/CRL/lib/python3.10/site-packages/pandas/core/indexing.py:1431\u001b[0m, in \u001b[0;36m_LocIndexer._getitem_axis\u001b[0;34m(self, key, axis)\u001b[0m\n\u001b[1;32m   1429\u001b[0m \u001b[38;5;66;03m# fall thru to straight lookup\u001b[39;00m\n\u001b[1;32m   1430\u001b[0m \u001b[38;5;28mself\u001b[39m\u001b[38;5;241m.\u001b[39m_validate_key(key, axis)\n\u001b[0;32m-> 1431\u001b[0m \u001b[38;5;28;01mreturn\u001b[39;00m \u001b[38;5;28;43mself\u001b[39;49m\u001b[38;5;241;43m.\u001b[39;49m\u001b[43m_get_label\u001b[49m\u001b[43m(\u001b[49m\u001b[43mkey\u001b[49m\u001b[43m,\u001b[49m\u001b[43m \u001b[49m\u001b[43maxis\u001b[49m\u001b[38;5;241;43m=\u001b[39;49m\u001b[43maxis\u001b[49m\u001b[43m)\u001b[49m\n",
      "File \u001b[0;32m~/miniconda/envs/CRL/lib/python3.10/site-packages/pandas/core/indexing.py:1381\u001b[0m, in \u001b[0;36m_LocIndexer._get_label\u001b[0;34m(self, label, axis)\u001b[0m\n\u001b[1;32m   1379\u001b[0m \u001b[38;5;28;01mdef\u001b[39;00m \u001b[38;5;21m_get_label\u001b[39m(\u001b[38;5;28mself\u001b[39m, label, axis: AxisInt):\n\u001b[1;32m   1380\u001b[0m     \u001b[38;5;66;03m# GH#5567 this will fail if the label is not present in the axis.\u001b[39;00m\n\u001b[0;32m-> 1381\u001b[0m     \u001b[38;5;28;01mreturn\u001b[39;00m \u001b[38;5;28;43mself\u001b[39;49m\u001b[38;5;241;43m.\u001b[39;49m\u001b[43mobj\u001b[49m\u001b[38;5;241;43m.\u001b[39;49m\u001b[43mxs\u001b[49m\u001b[43m(\u001b[49m\u001b[43mlabel\u001b[49m\u001b[43m,\u001b[49m\u001b[43m \u001b[49m\u001b[43maxis\u001b[49m\u001b[38;5;241;43m=\u001b[39;49m\u001b[43maxis\u001b[49m\u001b[43m)\u001b[49m\n",
      "File \u001b[0;32m~/miniconda/envs/CRL/lib/python3.10/site-packages/pandas/core/generic.py:4290\u001b[0m, in \u001b[0;36mNDFrame.xs\u001b[0;34m(self, key, axis, level, drop_level)\u001b[0m\n\u001b[1;32m   4287\u001b[0m     index \u001b[38;5;241m=\u001b[39m \u001b[38;5;28mself\u001b[39m\u001b[38;5;241m.\u001b[39mindex\n\u001b[1;32m   4289\u001b[0m \u001b[38;5;28;01mif\u001b[39;00m \u001b[38;5;28misinstance\u001b[39m(index, MultiIndex):\n\u001b[0;32m-> 4290\u001b[0m     loc, new_index \u001b[38;5;241m=\u001b[39m \u001b[43mindex\u001b[49m\u001b[38;5;241;43m.\u001b[39;49m\u001b[43m_get_loc_level\u001b[49m\u001b[43m(\u001b[49m\u001b[43mkey\u001b[49m\u001b[43m,\u001b[49m\u001b[43m \u001b[49m\u001b[43mlevel\u001b[49m\u001b[38;5;241;43m=\u001b[39;49m\u001b[38;5;241;43m0\u001b[39;49m\u001b[43m)\u001b[49m\n\u001b[1;32m   4291\u001b[0m     \u001b[38;5;28;01mif\u001b[39;00m \u001b[38;5;129;01mnot\u001b[39;00m drop_level:\n\u001b[1;32m   4292\u001b[0m         \u001b[38;5;28;01mif\u001b[39;00m lib\u001b[38;5;241m.\u001b[39mis_integer(loc):\n\u001b[1;32m   4293\u001b[0m             \u001b[38;5;66;03m# Slice index must be an integer or None\u001b[39;00m\n",
      "File \u001b[0;32m~/miniconda/envs/CRL/lib/python3.10/site-packages/pandas/core/indexes/multi.py:3222\u001b[0m, in \u001b[0;36mMultiIndex._get_loc_level\u001b[0;34m(self, key, level)\u001b[0m\n\u001b[1;32m   3220\u001b[0m     \u001b[38;5;28;01mreturn\u001b[39;00m (\u001b[38;5;28mself\u001b[39m\u001b[38;5;241m.\u001b[39m_engine\u001b[38;5;241m.\u001b[39mget_loc(key), \u001b[38;5;28;01mNone\u001b[39;00m)\n\u001b[1;32m   3221\u001b[0m \u001b[38;5;28;01mexcept\u001b[39;00m \u001b[38;5;167;01mKeyError\u001b[39;00m \u001b[38;5;28;01mas\u001b[39;00m err:\n\u001b[0;32m-> 3222\u001b[0m     \u001b[38;5;28;01mraise\u001b[39;00m \u001b[38;5;167;01mKeyError\u001b[39;00m(key) \u001b[38;5;28;01mfrom\u001b[39;00m \u001b[38;5;21;01merr\u001b[39;00m\n\u001b[1;32m   3223\u001b[0m \u001b[38;5;28;01mexcept\u001b[39;00m \u001b[38;5;167;01mTypeError\u001b[39;00m:\n\u001b[1;32m   3224\u001b[0m     \u001b[38;5;66;03m# e.g. partial string indexing\u001b[39;00m\n\u001b[1;32m   3225\u001b[0m     \u001b[38;5;66;03m#  test_partial_string_timestamp_multiindex\u001b[39;00m\n\u001b[1;32m   3226\u001b[0m     \u001b[38;5;28;01mpass\u001b[39;00m\n",
      "\u001b[0;31mKeyError\u001b[0m: ('sulfur', 'WS', 0.9)"
     ]
    }
   ],
   "source": [
    "# Simultaneous coverage\n",
    "results = pd.read_csv('results/finetuning/test_results_simul.csv').drop(columns=['Unnamed: 0', \"lr\",\"dropout\"]).rename(columns={\"length\":\"width\"})\n",
    "\n",
    "loss = [\"WS\",\"SQR\", \"RQR-W\", \"QR\" ,\"IR\"]\n",
    "datasets = ['sulfur', 'cpu_act', 'miami']\n",
    "metrics = [\"coverage\",\"width\"]\n",
    "coverages = [\"0.1\",\"0.2\",\"0.3\",\"0.4\",\"0.5\",\"0.6\",\"0.7\",\"0.8\",\"0.9\"]\n",
    "\n",
    "results_mean = results.groupby(['dataset','loss','target']).mean().drop(columns=[\"seed\"])\n",
    "# results_mean.to_csv(\"results/finetuning/test_results_simul_mean.csv\")\n",
    "for c in coverages:\n",
    "    print(f\"Coverage: {c}\")\n",
    "    index = pd.MultiIndex.from_product([datasets,metrics], names = [\"dataset\",\"metric\"])\n",
    "    table2 = pd.DataFrame(columns=loss , index= index)\n",
    "\n",
    "    for (dataset,metric) in index:\n",
    "        for l in loss:\n",
    "            table2.loc[(dataset,metric),l] = results_mean.loc[(dataset,l,float(c)),metric]\n",
    "    print(table2)\n",
    "    print(table2.groupby(\"metric\").mean())\n"
   ]
  },
  {
   "cell_type": "code",
   "execution_count": null,
   "metadata": {},
   "outputs": [
    {
     "name": "stdout",
     "output_type": "stream",
     "text": [
      "sulfur\n",
      "DescribeResult(nobs=10081, minmax=(0.0, 1.0), mean=0.08070756, variance=0.0028077201492297246, skewness=6.724174332004888, kurtosis=74.41034045267276)\n",
      "(10081, 5)\n",
      "cpu_act\n",
      "DescribeResult(nobs=8192, minmax=(2.0, 2243187.0), mean=1328126.0, variance=178100387041.9026, skewness=-0.7915198765066455, kurtosis=1.1650903307560334)\n",
      "(8192, 20)\n",
      "miami\n",
      "DescribeResult(nobs=13932, minmax=(72000.0, 2650000.0), mean=399941.94, variance=100625143103.37979, skewness=3.215159510504782, kurtosis=13.269964109573124)\n",
      "(13932, 15)\n"
     ]
    }
   ],
   "source": [
    "from scipy.stats import kurtosis\n",
    "from scipy.stats import describe\n",
    "\n",
    "\n",
    "datasets = ['sulfur', 'cpu_act', 'miami']\n",
    "\n",
    "\n",
    "from data.dataset import GetDataset\n",
    "for d in datasets:\n",
    "    X,y = GetDataset(d,\"data\")\n",
    "    y = pd.Series(y.flatten())\n",
    "    print(d)\n",
    "    print(describe(y))\n",
    "    print(X.shape)\n",
    "    "
   ]
  }
 ],
 "metadata": {
  "kernelspec": {
   "display_name": "IRM",
   "language": "python",
   "name": "python3"
  },
  "language_info": {
   "codemirror_mode": {
    "name": "ipython",
    "version": 3
   },
   "file_extension": ".py",
   "mimetype": "text/x-python",
   "name": "python",
   "nbconvert_exporter": "python",
   "pygments_lexer": "ipython3",
   "version": "3.10.13"
  }
 },
 "nbformat": 4,
 "nbformat_minor": 2
}
