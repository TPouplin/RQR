{
 "cells": [
  {
   "cell_type": "code",
   "execution_count": 5,
   "metadata": {},
   "outputs": [],
   "source": [
    "import pandas as pd \n",
    "import numpy as np"
   ]
  },
  {
   "cell_type": "code",
   "execution_count": 6,
   "metadata": {},
   "outputs": [
    {
     "name": "stdout",
     "output_type": "stream",
     "text": [
      "               coverage  width\n",
      "dataset loss                  \n",
      "boston  IR           10     10\n",
      "        OQR          10     10\n",
      "        QR           10     10\n",
      "        RQR-O        10     10\n",
      "        RQR-W        10     10\n",
      "...                 ...    ...\n",
      "yacht   QR           10     10\n",
      "        RQR-O        10     10\n",
      "        RQR-W        10     10\n",
      "        SQR          10     10\n",
      "        WS           10     10\n",
      "\n",
      "[61 rows x 2 columns]\n",
      "[0 1 2 3 4 5 6 7 8 9]\n"
     ]
    }
   ],
   "source": [
    "results = pd.read_csv('results/finetuning/test_results.csv')\n",
    "results = results.drop(columns=['Unnamed: 0', \"lr\",\"dropout\"]).rename(columns={\"length\":\"width\"})\n",
    "\n",
    "results_mean = results.groupby(['dataset','loss']).mean().drop(columns=[\"seed\"])\n",
    "results_std = results.groupby(['dataset','loss']).std().drop(columns=[\"seed\"])\n",
    "results_count = results.groupby(['dataset','loss']).count().drop(columns=[\"seed\"])\n",
    "\n",
    "print(results_count)\n",
    "\n",
    "# print(results[(results[\"dataset\"]==\"boston\") & (results[\"loss\"]==\"QR\")])\n",
    "\n",
    "print(results[\"seed\"].unique())"
   ]
  },
  {
   "cell_type": "code",
   "execution_count": 7,
   "metadata": {},
   "outputs": [
    {
     "name": "stdout",
     "output_type": "stream",
     "text": [
      "protein-RQR-O-0\n",
      "protein-RQR-O-1\n",
      "protein-RQR-O-2\n",
      "protein-RQR-O-3\n",
      "protein-RQR-O-4\n",
      "protein-RQR-O-5\n",
      "protein-RQR-O-6\n",
      "protein-RQR-O-7\n",
      "protein-RQR-O-8\n",
      "protein-RQR-O-9\n",
      "kin8nm-OQR-7\n",
      "kin8nm-OQR-8\n",
      "kin8nm-OQR-9\n",
      "power-OQR-8\n",
      "power-OQR-9\n",
      "protein-OQR-0\n",
      "protein-OQR-1\n",
      "protein-OQR-2\n",
      "protein-OQR-3\n",
      "protein-OQR-4\n",
      "protein-OQR-5\n",
      "protein-OQR-6\n",
      "protein-OQR-7\n",
      "protein-OQR-8\n",
      "protein-OQR-9\n",
      "protein-IR-5\n",
      "protein-IR-6\n",
      "protein-IR-7\n",
      "protein-IR-8\n",
      "protein-IR-9\n"
     ]
    }
   ],
   "source": [
    "#Verify that we have all the results :\n",
    "loss =  [\"QR\",\"WS\",\"RQR-W\",\"SQR\",\"RQR-O\",\"OQR\",\"IR\"]\n",
    "dataset=  [\"boston\", \"concrete\", \"energy\", \"kin8nm\", \"naval\", \"power\", \"protein\", \"wine\", \"yacht\"]\n",
    "seed = [x for x in range(10)]\n",
    "\n",
    "missing_results = []\n",
    "\n",
    "for l in loss:\n",
    "    for d in dataset:\n",
    "        for s in seed:\n",
    "            if len(results[(results[\"dataset\"]==d) & (results[\"loss\"]==l) & (results[\"seed\"]==s)]) == 0:\n",
    "                missing_results.append((d,l,s)) \n",
    "print(\"\\n\".join([ str(x[0]) + \"-\" + str(x[1]) + \"-\" + str(x[2]) for x in  missing_results]))"
   ]
  },
  {
   "cell_type": "code",
   "execution_count": 8,
   "metadata": {},
   "outputs": [
    {
     "name": "stdout",
     "output_type": "stream",
     "text": [
      "\\begin{tabular}{lllllll}\n",
      "\\toprule\n",
      " &  & RQR-W & QR & SQR & WS & IR \\\\\n",
      "dataset & metric &  &  &  &  &  \\\\\n",
      "\\midrule\n",
      "\\multirow[t]{2}{*}{yacht} & coverage & 0.90 (0.00) & 0.90 (0.01) & 0.81 (0.05) & 0.79 (0.04) & 0.87 (0.02) \\\\\n",
      " & width & 4.48 (0.35) & 4.39 (0.16) & 3.24 (0.27) & 3.05 (0.74) & 3.39 (0.16) \\\\\n",
      "\\cline{1-7}\n",
      "\\multirow[t]{2}{*}{boston} & coverage & 0.90 (0.00) & 0.91 (0.01) & 0.81 (0.01) & 0.80 (0.02) & 0.90 (0.01) \\\\\n",
      " & width & 1.35 (0.04) & 1.48 (0.02) & 1.02 (0.01) & 2.16 (0.08) & 1.85 (0.13) \\\\\n",
      "\\cline{1-7}\n",
      "\\multirow[t]{2}{*}{energy} & coverage & 0.89 (0.01) & 0.90 (0.01) & 0.87 (0.01) & 0.80 (0.02) & 0.90 (0.01) \\\\\n",
      " & width & 1.35 (0.01) & 1.38 (0.02) & 1.28 (0.01) & 2.22 (0.07) & 1.66 (0.09) \\\\\n",
      "\\cline{1-7}\n",
      "\\multirow[t]{2}{*}{concrete} & coverage & 0.89 (0.00) & 0.91 (0.01) & 0.84 (0.01) & 0.82 (0.01) & 0.89 (0.00) \\\\\n",
      " & width & 1.54 (0.02) & 1.66 (0.02) & 1.39 (0.01) & 2.27 (0.06) & 1.81 (0.06) \\\\\n",
      "\\cline{1-7}\n",
      "\\multirow[t]{2}{*}{wine} & coverage & 0.90 (0.01) & 0.91 (0.02) & 0.89 (0.01) & 0.94 (0.01) & 0.91 (0.01) \\\\\n",
      " & width & 0.59 (0.03) & 0.66 (0.04) & 0.47 (0.01) & 2.05 (0.05) & 1.68 (0.08) \\\\\n",
      "\\cline{1-7}\n",
      "\\multirow[t]{2}{*}{kin8nm} & coverage & 0.89 (0.00) & 0.91 (0.00) & 0.88 (0.00) & 0.87 (0.01) & 0.89 (0.01) \\\\\n",
      " & width & 1.20 (0.00) & 1.24 (0.01) & 1.17 (0.01) & 2.18 (0.04) & 1.38 (0.06) \\\\\n",
      "\\cline{1-7}\n",
      "\\multirow[t]{2}{*}{power} & coverage & 0.90 (0.00) & 0.95 (0.01) & 0.95 (0.02) & 0.90 (0.01) & 0.63 (0.14) \\\\\n",
      " & width & 0.12 (0.00) & 0.16 (0.02) & 0.16 (0.01) & 1.85 (0.06) & 30000000.73 (15275251.94) \\\\\n",
      "\\cline{1-7}\n",
      "\\multirow[t]{2}{*}{naval} & coverage & 0.86 (0.01) & 0.90 (0.01) & 0.92 (0.02) & 0.97 (0.03) & 0.91 (0.01) \\\\\n",
      " & width & 0.05 (0.00) & 0.05 (0.01) & 0.06 (0.01) & 1.99 (0.04) & 2.55 (0.11) \\\\\n",
      "\\cline{1-7}\n",
      "\\multirow[t]{2}{*}{protein} & coverage & 0.90 (0.00) & 0.90 (0.00) & 0.91 (0.00) & 0.69 (0.01) & 0.90 (0.00) \\\\\n",
      " & width & 2.23 (0.00) & 2.26 (0.00) & 2.27 (0.01) & 2.23 (0.09) & 2.14 (0.00) \\\\\n",
      "\\cline{1-7}\n",
      "\\bottomrule\n",
      "\\end{tabular}\n",
      "\n"
     ]
    }
   ],
   "source": [
    "#Table 1 \n",
    "\n",
    "loss = [\"RQR-W\",\"QR\",\"SQR\",\"WS\",\"IR\"]\n",
    "datasets = results[\"dataset\"].unique()\n",
    "metrics = [\"coverage\",\"width\"]\n",
    "\n",
    "index = pd.MultiIndex.from_product([datasets,metrics], names = [\"dataset\",\"metric\"])\n",
    "\n",
    "table1 = pd.DataFrame(columns=loss, index= index)\n",
    "\n",
    "for (dataset,metric) in index:\n",
    "    for l in loss:\n",
    "        table1.loc[(dataset,metric),l] = f'''{\"{:.2f}\".format(results_mean.loc[(dataset,l),metric])} ({\"{:.2f}\".format(results_std.loc[(dataset,l),metric]/np.sqrt(10))})'''\n",
    "print(table1.to_latex())"
   ]
  },
  {
   "cell_type": "code",
   "execution_count": 10,
   "metadata": {},
   "outputs": [
    {
     "name": "stdout",
     "output_type": "stream",
     "text": [
      "               0    1   2   3   4   5            6                7     8   \\\n",
      "0     'Sao Paulo'   70   2   1   1   7        acept        furnished  2065   \n",
      "1     'Sao Paulo'  320   4   4   0  20        acept  'not furnished'  1200   \n",
      "2  'Porto Alegre'   80   1   1   1   6        acept  'not furnished'  1000   \n",
      "3  'Porto Alegre'   51   2   1   0   2        acept  'not furnished'   270   \n",
      "4     'Sao Paulo'   25   1   1   0   1  'not acept'  'not furnished'     0   \n",
      "\n",
      "     9     10  11    12  \n",
      "0  3300   211  42  5618  \n",
      "1  4960  1750  63  7973  \n",
      "2  2800     0  41  3841  \n",
      "3  1112    22  17  1421  \n",
      "4   800    25  11   836  \n"
     ]
    }
   ],
   "source": [
    "import pandas as pd \n",
    "\n",
    "print(pd.read_csv(\"data/brazil.arff\", header=None).head())"
   ]
  }
 ],
 "metadata": {
  "kernelspec": {
   "display_name": "IRM",
   "language": "python",
   "name": "python3"
  },
  "language_info": {
   "codemirror_mode": {
    "name": "ipython",
    "version": 3
   },
   "file_extension": ".py",
   "mimetype": "text/x-python",
   "name": "python",
   "nbconvert_exporter": "python",
   "pygments_lexer": "ipython3",
   "version": "3.10.13"
  }
 },
 "nbformat": 4,
 "nbformat_minor": 2
}
