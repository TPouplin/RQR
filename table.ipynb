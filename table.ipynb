{
 "cells": [
  {
   "cell_type": "code",
   "execution_count": 6,
   "metadata": {},
   "outputs": [],
   "source": [
    "import pandas as pd \n",
    "import numpy as np"
   ]
  },
  {
   "cell_type": "code",
   "execution_count": 7,
   "metadata": {},
   "outputs": [
    {
     "name": "stdout",
     "output_type": "stream",
     "text": [
      "               coverage  width\n",
      "dataset loss                  \n",
      "cpu_act IR           10     10\n",
      "        QR           10     10\n",
      "        RQR-W         7      7\n",
      "        SQR          10     10\n",
      "        SQRN         10     10\n",
      "        SWS          10     10\n",
      "        WS           10     10\n",
      "miami   IR            2      2\n",
      "        QR           10     10\n",
      "        RQR-W        10     10\n",
      "        SQR          10     10\n",
      "        SQRN         10     10\n",
      "        SWS          10     10\n",
      "        WS           10     10\n",
      "sulfur  IR           10     10\n",
      "        QR           10     10\n",
      "        RQR-W        10     10\n",
      "        SQR          10     10\n",
      "        SQRN         10     10\n",
      "        SWS          10     10\n",
      "        WS           10     10\n",
      "[0 1 2 3 4 5 6 7 8 9]\n"
     ]
    }
   ],
   "source": [
    "results = pd.read_csv('results/finetuning/test_results.csv')\n",
    "results = results.drop(columns=['Unnamed: 0', \"lr\",\"dropout\"]).rename(columns={\"length\":\"width\"})\n",
    "\n",
    "results_mean = results.groupby(['dataset','loss']).mean().drop(columns=[\"seed\"])\n",
    "results_std = results.groupby(['dataset','loss']).std().drop(columns=[\"seed\"])\n",
    "results_count = results.groupby(['dataset','loss']).count().drop(columns=[\"seed\"])\n",
    "\n",
    "print(results_count)\n",
    "\n",
    "# print(results[(results[\"dataset\"]==\"boston\") & (results[\"loss\"]==\"QR\")])\n",
    "\n",
    "print(results[\"seed\"].unique())"
   ]
  },
  {
   "cell_type": "code",
   "execution_count": 8,
   "metadata": {},
   "outputs": [],
   "source": [
    "#Verify that we have all the results :\n",
    "# loss =  [\"QR\",\"WS\",\"RQR-W\",\"SQR\",\"RQR-O\",\"OQR\",\"IR\"]\n",
    "# dataset=  [\"boston\", \"concrete\", \"energy\", \"kin8nm\", \"naval\", \"power\", \"protein\", \"wine\", \"yacht\"]\n",
    "# seed = [x for x in range(10)]\n",
    "\n",
    "# missing_results = []\n",
    "\n",
    "# for l in loss:\n",
    "#     for d in dataset:\n",
    "#         for s in seed:\n",
    "#             if len(results[(results[\"dataset\"]==d) & (results[\"loss\"]==l) & (results[\"seed\"]==s)]) == 0:\n",
    "#                 missing_results.append((d,l,s)) \n",
    "# print(\"\\n\".join([ str(x[0]) + \"-\" + str(x[1]) + \"-\" + str(x[2]) for x in  missing_results]))"
   ]
  },
  {
   "cell_type": "code",
   "execution_count": 9,
   "metadata": {},
   "outputs": [
    {
     "name": "stdout",
     "output_type": "stream",
     "text": [
      "\\begin{tabular}{lllllllll}\n",
      "\\toprule\n",
      " &  & WS & SWS & SQR & SQRN & RQR-W & QR & IR \\\\\n",
      "dataset & metric &  &  &  &  &  &  &  \\\\\n",
      "\\midrule\n",
      "\\multirow[t]{2}{*}{cpu_act} & coverage & 0.91 (0.01) & 0.82 (0.08) & 0.95 (0.01) & 0.93 (0.01) & 0.90 (0.00) & 0.92 (0.01) & 0.90 (0.00) \\\\\n",
      " & width & 2.36 (0.05) & 2.26 (0.28) & 0.76 (0.01) & 0.73 (0.01) & 0.88 (0.05) & 0.69 (0.00) & 0.86 (0.15) \\\\\n",
      "\\cline{1-9}\n",
      "\\multirow[t]{2}{*}{sulfur} & coverage & 0.85 (0.01) & 0.77 (0.06) & 0.87 (0.01) & 0.87 (0.01) & 0.89 (0.00) & 0.90 (0.00) & 0.89 (0.00) \\\\\n",
      " & width & 1.96 (0.05) & 1.87 (0.17) & 1.07 (0.04) & 1.01 (0.03) & 1.16 (0.00) & 1.28 (0.01) & 1.14 (0.03) \\\\\n",
      "\\cline{1-9}\n",
      "\\multirow[t]{2}{*}{miami} & coverage & 0.78 (0.01) & 0.84 (0.04) & 0.88 (0.01) & 0.86 (0.01) & 0.90 (0.00) & 0.91 (0.00) & 0.89 (0.00) \\\\\n",
      " & width & 1.86 (0.04) & 2.19 (0.18) & 2.08 (0.11) & 1.47 (0.05) & 1.58 (0.01) & 2.22 (0.03) & 1.49 (0.04) \\\\\n",
      "\\cline{1-9}\n",
      "\\bottomrule\n",
      "\\end{tabular}\n",
      "\n"
     ]
    }
   ],
   "source": [
    "#Table 1 \n",
    "\n",
    "loss = [\"WS\", \"SWS\",\"SQR\",\"SQRN\", \"RQR-W\", \"QR\" ,\"IR\"]\n",
    "datasets = results[\"dataset\"].unique()\n",
    "metrics = [\"coverage\",\"width\"]\n",
    "\n",
    "index = pd.MultiIndex.from_product([datasets,metrics], names = [\"dataset\",\"metric\"])\n",
    "\n",
    "table1 = pd.DataFrame(columns=loss, index= index)\n",
    "\n",
    "for (dataset,metric) in index:\n",
    "    for l in loss:\n",
    "        table1.loc[(dataset,metric),l] = f'''{\"{:.2f}\".format(results_mean.loc[(dataset,l),metric])} ({\"{:.2f}\".format(results_std.loc[(dataset,l),metric]/np.sqrt(10))})'''\n",
    "print(table1.to_latex())"
   ]
  },
  {
   "cell_type": "code",
   "execution_count": 20,
   "metadata": {},
   "outputs": [
    {
     "name": "stdout",
     "output_type": "stream",
     "text": [
      "                        WS       SWS       SQR      SQRN     RQR-W        QR  \\\n",
      "dataset metric                                                                 \n",
      "cpu_act coverage  0.912264  0.824405  0.945271  0.928981  0.901334  0.915741   \n",
      "        width     2.364291  2.262983  0.763649  0.725918  0.882123  0.685406   \n",
      "sulfur  coverage  0.847645  0.769311  0.873773  0.867229  0.894745  0.898265   \n",
      "        width     1.955466  1.868127  1.066355  1.006858  1.163173  1.281629   \n",
      "miami   coverage     0.777   0.83624  0.882526    0.8601  0.901256  0.906781   \n",
      "        width     1.862275  2.193068  2.082146  1.471723  1.583984  2.221868   \n",
      "\n",
      "                        IR  \n",
      "dataset metric              \n",
      "cpu_act coverage   0.90122  \n",
      "        width     0.864592  \n",
      "sulfur  coverage  0.892861  \n",
      "        width     1.139665  \n",
      "miami   coverage  0.889846  \n",
      "        width     1.492075  \n",
      "                WS       SWS       SQR      SQRN     RQR-W        QR        IR\n",
      "metric                                                                        \n",
      "coverage  0.845636  0.809985  0.900523  0.885437  0.899111  0.906929  0.894642\n",
      "width     2.060677  2.108059   1.30405  1.068166   1.20976  1.396301  1.165444\n"
     ]
    }
   ],
   "source": [
    "# Table 2\n",
    "loss = [\"WS\", \"SWS\",\"SQR\",\"SQRN\", \"RQR-W\", \"QR\" ,\"IR\"]\n",
    "datasets = results[\"dataset\"].unique()\n",
    "metrics = [\"coverage\",\"width\"]\n",
    "\n",
    "index = pd.MultiIndex.from_product([datasets,metrics], names = [\"dataset\",\"metric\"])\n",
    "\n",
    "table2 = pd.DataFrame(columns=loss , index= index)\n",
    "\n",
    "for (dataset,metric) in index:\n",
    "    for l in loss:\n",
    "        table2.loc[(dataset,metric),l] = results_mean.loc[(dataset,l),metric]\n",
    "print(table2)\n",
    "print(table2.groupby(\"metric\").mean())"
   ]
  }
 ],
 "metadata": {
  "kernelspec": {
   "display_name": "IRM",
   "language": "python",
   "name": "python3"
  },
  "language_info": {
   "codemirror_mode": {
    "name": "ipython",
    "version": 3
   },
   "file_extension": ".py",
   "mimetype": "text/x-python",
   "name": "python",
   "nbconvert_exporter": "python",
   "pygments_lexer": "ipython3",
   "version": "3.10.13"
  }
 },
 "nbformat": 4,
 "nbformat_minor": 2
}
