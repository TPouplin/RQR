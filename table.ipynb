{
 "cells": [
  {
   "cell_type": "code",
   "execution_count": 17,
   "metadata": {},
   "outputs": [],
   "source": [
    "import pandas as pd \n",
    "import numpy as np"
   ]
  },
  {
   "cell_type": "code",
   "execution_count": 18,
   "metadata": {},
   "outputs": [
    {
     "name": "stdout",
     "output_type": "stream",
     "text": [
      "                   coverage  width\n",
      "dataset     loss                  \n",
      "analcatdata IR           10     10\n",
      "            QR           10     10\n",
      "            RQR-W        10     10\n",
      "            SQR          10     10\n",
      "            SQRN         10     10\n",
      "            SWS          10     10\n",
      "            WS           10     10\n",
      "cpu_act     IR           10     10\n",
      "            QR           10     10\n",
      "            RQR-W        11     11\n",
      "            SQR          10     10\n",
      "            SQRN         10     10\n",
      "            SWS          10     10\n",
      "            WS           10     10\n",
      "isolet      IR           10     10\n",
      "            QR           10     10\n",
      "            RQR-W        10     10\n",
      "            SQR          10     10\n",
      "            SQRN         10     10\n",
      "            SWS          10     10\n",
      "            WS           10     10\n",
      "mercedes    IR           10     10\n",
      "            QR           10     10\n",
      "            RQR-W        18     18\n",
      "            SQR          10     10\n",
      "            SQRN         10     10\n",
      "            SWS          10     10\n",
      "            WS           10     10\n",
      "miami       IR           10     10\n",
      "            QR           10     10\n",
      "            RQR-W        10     10\n",
      "            SQR          10     10\n",
      "            SQRN         20     20\n",
      "            SWS          10     10\n",
      "            WS           10     10\n",
      "sulfur      IR           10     10\n",
      "            QR           10     10\n",
      "            RQR-W        10     10\n",
      "            SQR          10     10\n",
      "            SQRN         10     10\n",
      "            SWS          10     10\n",
      "            WS           10     10\n",
      "[0 1 2 3 4 5 6 7 8 9]\n"
     ]
    }
   ],
   "source": [
    "results = pd.read_csv('results/finetuning/test_results.csv')\n",
    "results = results.drop(columns=['Unnamed: 0', \"lr\",\"dropout\"]).rename(columns={\"length\":\"width\"})\n",
    "\n",
    "results_mean = results.groupby(['dataset','loss']).mean().drop(columns=[\"seed\"])\n",
    "results_std = results.groupby(['dataset','loss']).std().drop(columns=[\"seed\"])\n",
    "results_count = results.groupby(['dataset','loss']).count().drop(columns=[\"seed\"])\n",
    "\n",
    "print(results_count)\n",
    "\n",
    "# print(results[(results[\"dataset\"]==\"boston\") & (results[\"loss\"]==\"QR\")])\n",
    "\n",
    "print(results[\"seed\"].unique())"
   ]
  },
  {
   "cell_type": "code",
   "execution_count": 19,
   "metadata": {},
   "outputs": [],
   "source": [
    "#Verify that we have all the results :\n",
    "# loss =  [\"QR\",\"WS\",\"RQR-W\",\"SQR\",\"RQR-O\",\"OQR\",\"IR\"]\n",
    "# dataset=  [\"boston\", \"concrete\", \"energy\", \"kin8nm\", \"naval\", \"power\", \"protein\", \"wine\", \"yacht\"]\n",
    "# seed = [x for x in range(10)]\n",
    "\n",
    "# missing_results = []\n",
    "\n",
    "# for l in loss:\n",
    "#     for d in dataset:\n",
    "#         for s in seed:\n",
    "#             if len(results[(results[\"dataset\"]==d) & (results[\"loss\"]==l) & (results[\"seed\"]==s)]) == 0:\n",
    "#                 missing_results.append((d,l,s)) \n",
    "# print(\"\\n\".join([ str(x[0]) + \"-\" + str(x[1]) + \"-\" + str(x[2]) for x in  missing_results]))"
   ]
  },
  {
   "cell_type": "code",
   "execution_count": 20,
   "metadata": {},
   "outputs": [
    {
     "name": "stdout",
     "output_type": "stream",
     "text": [
      "\\begin{tabular}{lllllllll}\n",
      "\\toprule\n",
      " &  & RQR-W & QR & SQR & SQRN & WS & SWS & IR \\\\\n",
      "dataset & metric &  &  &  &  &  &  &  \\\\\n",
      "\\midrule\n",
      "\\multirow[t]{2}{*}{cpu_act} & coverage & 0.89 (0.00) & 0.91 (0.01) & 0.89 (0.01) & 0.82 (0.01) & 0.91 (0.01) & 0.93 (0.00) & 0.90 (0.01) \\\\\n",
      " & width & 0.77 (0.01) & 0.80 (0.04) & 0.78 (0.01) & 0.77 (0.00) & 0.77 (0.04) & 1.09 (0.06) & 6.17 (2.87) \\\\\n",
      "\\cline{1-9}\n",
      "\\multirow[t]{2}{*}{miami} & coverage & 0.88 (0.00) & 0.89 (0.00) & 0.82 (0.01) & 0.81 (0.01) & 0.89 (0.00) & 0.89 (0.00) & 0.89 (0.00) \\\\\n",
      " & width & 1.45 (0.02) & 1.64 (0.02) & 1.36 (0.10) & 1.20 (0.06) & 1.65 (0.02) & 1.61 (0.04) & 2.21 (0.08) \\\\\n",
      "\\cline{1-9}\n",
      "\\multirow[t]{2}{*}{sulfur} & coverage & 0.88 (0.00) & 0.88 (0.01) & 0.84 (0.01) & 0.84 (0.01) & 0.88 (0.00) & 0.90 (0.01) & 0.90 (0.00) \\\\\n",
      " & width & 1.10 (0.02) & 1.20 (0.01) & 0.93 (0.02) & 0.90 (0.02) & 1.20 (0.01) & 1.39 (0.08) & 1.95 (0.09) \\\\\n",
      "\\cline{1-9}\n",
      "\\bottomrule\n",
      "\\end{tabular}\n",
      "\n"
     ]
    }
   ],
   "source": [
    "#Table 1 \n",
    "loss = [\"RQR-W\",\"QR\",\"SQR\",\"SQRN\",\"WS\",\"SWS\",\"IR\"]\n",
    "datasets = results[\"dataset\"].unique()\n",
    "datasets = [\"cpu_act\",\"miami\",\"sulfur\"]\n",
    "metrics = [\"coverage\",\"width\"]\n",
    "\n",
    "index = pd.MultiIndex.from_product([datasets,metrics], names = [\"dataset\",\"metric\"])\n",
    "\n",
    "table1 = pd.DataFrame(columns=loss, index= index)\n",
    "\n",
    "for (dataset,metric) in index:\n",
    "    for l in loss:\n",
    "        table1.loc[(dataset,metric),l] = f'''{\"{:.2f}\".format(results_mean.loc[(dataset,l),metric])} ({\"{:.2f}\".format(results_std.loc[(dataset,l),metric]/np.sqrt(10))})'''\n",
    "print(table1.to_latex())"
   ]
  },
  {
   "cell_type": "code",
   "execution_count": 21,
   "metadata": {},
   "outputs": [
    {
     "name": "stdout",
     "output_type": "stream",
     "text": [
      "                            WS       SWS       SQR      SQRN     RQR-W  \\\n",
      "dataset     metric                                                       \n",
      "cpu_act     coverage  0.909945   0.92892  0.893838  0.820805  0.892451   \n",
      "            width     0.768567  1.093784  0.779867  0.768865  0.767042   \n",
      "miami       coverage  0.886509   0.89225  0.818407  0.811159  0.883746   \n",
      "            width     1.649511  1.607781  1.355394  1.200576  1.445389   \n",
      "sulfur      coverage  0.877045  0.899405  0.842241   0.83763  0.878632   \n",
      "            width     1.199361  1.393406  0.925934  0.904892  1.103112   \n",
      "isolet      coverage  0.903782  0.910577  0.726795  0.691539  0.881795   \n",
      "            width     3.394092  2.399722  1.403395  1.336898   2.06201   \n",
      "analcatdata coverage  0.889889  0.931196  0.882614  0.875709   0.88434   \n",
      "            width      2.33064  2.828406  0.536206  0.510598  0.666249   \n",
      "mercedes    coverage  0.915202  0.899169  0.846793  0.822565  0.887767   \n",
      "            width     2.462966  2.267103  0.346951  0.338972  0.589964   \n",
      "\n",
      "                            QR         IR  \n",
      "dataset     metric                         \n",
      "cpu_act     coverage  0.905552   0.895973  \n",
      "            width     0.800901   6.168087  \n",
      "miami       coverage  0.885791   0.891353  \n",
      "            width     1.638317   2.214376  \n",
      "sulfur      coverage  0.878582   0.896183  \n",
      "            width     1.199153   1.946636  \n",
      "isolet      coverage  0.875321    0.90468  \n",
      "            width     1.661113   3.443954  \n",
      "analcatdata coverage  0.891739   0.902343  \n",
      "            width     0.957184   2.641238  \n",
      "mercedes    coverage  0.888124   0.901306  \n",
      "            width      0.33874  24.084076  \n",
      "                WS       SWS       SQR      SQRN     RQR-W        QR        IR\n",
      "metric                                                                        \n",
      "coverage  0.897062  0.910253  0.835115  0.809901  0.884789  0.887518   0.89864\n",
      "width     1.967523    1.9317  0.891291  0.843467  1.105628  1.099235  6.749728\n"
     ]
    }
   ],
   "source": [
    "# Table 2\n",
    "loss = [\"WS\", \"SWS\",\"SQR\",\"SQRN\", \"RQR-W\", \"QR\" ,\"IR\"]\n",
    "datasets = results[\"dataset\"].unique()\n",
    "metrics = [\"coverage\",\"width\"]\n",
    "\n",
    "index = pd.MultiIndex.from_product([datasets,metrics], names = [\"dataset\",\"metric\"])\n",
    "\n",
    "table2 = pd.DataFrame(columns=loss , index= index)\n",
    "\n",
    "for (dataset,metric) in index:\n",
    "    for l in loss:\n",
    "        table2.loc[(dataset,metric),l] = results_mean.loc[(dataset,l),metric]\n",
    "print(table2)\n",
    "print(table2.groupby(\"metric\").mean())"
   ]
  }
 ],
 "metadata": {
  "kernelspec": {
   "display_name": "IRM",
   "language": "python",
   "name": "python3"
  },
  "language_info": {
   "codemirror_mode": {
    "name": "ipython",
    "version": 3
   },
   "file_extension": ".py",
   "mimetype": "text/x-python",
   "name": "python",
   "nbconvert_exporter": "python",
   "pygments_lexer": "ipython3",
   "version": "3.10.13"
  }
 },
 "nbformat": 4,
 "nbformat_minor": 2
}
