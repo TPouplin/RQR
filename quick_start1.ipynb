{
 "cells": [
  {
   "cell_type": "markdown",
   "metadata": {},
   "source": [
    "## This notebook demos how to apply RQR-W objective on an example dataset"
   ]
  },
  {
   "cell_type": "code",
   "execution_count": 1,
   "metadata": {},
   "outputs": [],
   "source": [
    "import torch \n",
    "from sklearn.metrics import accuracy_score\n",
    "from sklearn.model_selection import train_test_split\n",
    "from sklearn.preprocessing import StandardScaler\n",
    "import numpy as np\n",
    "from torch import nn\n",
    "import matplotlib.pyplot as plt\n"
   ]
  },
  {
   "cell_type": "markdown",
   "metadata": {},
   "source": [
    "## Set up within a self-contained notebook"
   ]
  },
  {
   "cell_type": "code",
   "execution_count": 2,
   "metadata": {},
   "outputs": [],
   "source": [
    "# a simple MLP\n",
    "class MLP(torch.nn.Module):\n",
    "    def __init__(self, input_size, hidden_size, output_size, dropout):\n",
    "        super(MLP, self).__init__()\n",
    "        self.input_size = input_size\n",
    "        self.hidden_size = hidden_size\n",
    "        self.output_size = output_size\n",
    "        self.dropout = dropout\n",
    "        bias = True\n",
    "        self.base_model = nn.Sequential(\n",
    "            nn.Linear(self.input_size, self.hidden_size, bias=bias),\n",
    "            nn.ReLU(),\n",
    "            nn.Dropout(self.dropout),\n",
    "            nn.Linear(self.hidden_size, self.hidden_size, bias=bias),\n",
    "            nn.ReLU(),\n",
    "            nn.Dropout(self.dropout),\n",
    "            nn.Linear(self.hidden_size, self.output_size, bias=bias),\n",
    "        )\n",
    "        for m in self.base_model:\n",
    "            if isinstance(m, nn.Linear):\n",
    "                nn.init.constant_(m.bias, 0)\n",
    "\n",
    "    def forward(self, x):\n",
    "        x = self.base_model(x)\n",
    "        return x"
   ]
  },
  {
   "cell_type": "code",
   "execution_count": 3,
   "metadata": {},
   "outputs": [],
   "source": [
    "def GetDataset(name, base_path):\n",
    "    data = np.loadtxt(base_path + f\"/{name}.txt\")\n",
    "    X = data[:, :-1]\n",
    "    y = data[:, -1].reshape(-1, 1)\n",
    "    X = X.astype(np.float32)\n",
    "    y = y.astype(np.float32)\n",
    "    return X, y\n",
    "\n",
    "class Dataset(torch.utils.data.Dataset):\n",
    "    def __init__(self, X, y):\n",
    "        self.X = X\n",
    "        self.y = y\n",
    "        \n",
    "    def __len__(self):\n",
    "        return len(self.X)\n",
    "    \n",
    "    def __getitem__(self, idx):\n",
    "        return self.X[idx], self.y[idx]\n",
    "\n",
    "X, y = GetDataset(\"kin8nm\", \"data\")\n",
    "X_train, X_test, y_train, y_test = train_test_split(X, y, test_size=0.2, random_state=0)\n",
    "\n",
    "X_train, X_val, y_train, y_val = train_test_split(X_train, y_train, test_size=0.2, random_state=0)\n",
    "# zero mean and unit variance scaling of the train and test features\n",
    "scalerX = StandardScaler()\n",
    "scalerX = scalerX.fit(X_train)\n",
    "X_train = scalerX.transform(X_train)\n",
    "X_val = scalerX.transform(X_val)\n",
    "X_test = scalerX.transform(X_test)\n",
    "\n",
    "# scale the labels by dividing each by the mean absolute response\n",
    "mean_ytrain = np.mean(np.abs(y_train))\n",
    "y_train = y_train / mean_ytrain\n",
    "y_val = y_val / mean_ytrain\n",
    "y_test = y_test / mean_ytrain\n",
    "\n",
    "train_dataset = Dataset(torch.tensor(X_train, dtype=torch.float32), torch.tensor(y_train, dtype=torch.float32))\n",
    "val_dataset = Dataset(torch.tensor(X_val, dtype=torch.float32), torch.tensor(y_val, dtype=torch.float32))\n",
    "test_dataset = Dataset(torch.tensor(X_test, dtype=torch.float32), torch.tensor(y_test, dtype=torch.float32))\n",
    "\n",
    "BATCHSIZE = 100\n",
    "train_loader = torch.utils.data.DataLoader(train_dataset, batch_size=BATCHSIZE, shuffle=True)\n",
    "train_loader_test = torch.utils.data.DataLoader(train_dataset, batch_size=BATCHSIZE, shuffle=False)\n",
    "val_loader = torch.utils.data.DataLoader(val_dataset, batch_size=BATCHSIZE, shuffle=False)\n",
    "test_loader = torch.utils.data.DataLoader(test_dataset, batch_size=BATCHSIZE, shuffle=False)"
   ]
  },
  {
   "cell_type": "code",
   "execution_count": 4,
   "metadata": {},
   "outputs": [],
   "source": [
    "class RQRW(torch.nn.Module):\n",
    "    \"\"\"\n",
    "    RQR-W loss function for quantile regression.\n",
    "    \n",
    "    Args:\n",
    "        alpha: float, default=0.9\n",
    "            The desired coverage level in (0,1).\n",
    "        lam: float, default=0.\n",
    "            Width minimizing regularization parameter >= 0.\n",
    "    \n",
    "    See also:\n",
    "        \"Relaxed Quantile Regression: Prediction Intervals for Asymmetric Noise\"\n",
    "    \"\"\"\n",
    "    def __init__(self, alpha: float = 0.9, lam: float = 0.):\n",
    "        super().__init__()\n",
    "        self.alpha = alpha\n",
    "        self.l = lam\n",
    "        self.q1 = (1 - lam)/2\n",
    "        self.q2 = 1 - (1 - lam)/2\n",
    " \n",
    "    def forward(self, preds: torch.Tensor,  target: torch.Tensor) -> torch.Tensor:\n",
    "        y_pred_q1 = preds[:, 0]\n",
    "        y_pred_q2 = preds[:, 1]\n",
    "\n",
    "        diff_mu_1 = target - y_pred_q1 \n",
    "        diff_mu_2 = target - y_pred_q2\n",
    "        width = y_pred_q2 - y_pred_q1 \n",
    "        RQR_loss = torch.maximum(diff_mu_1 * diff_mu_2 * (self.alpha + 2 * self.l),\n",
    "                                 diff_mu_2 * diff_mu_1 * (self.alpha + 2 * self.l - 1))\n",
    "        penalty = self.l * torch.square(width) * 0.5\n",
    "        loss = RQR_loss + penalty\n",
    "\n",
    "        return torch.mean(loss)"
   ]
  },
  {
   "cell_type": "code",
   "execution_count": null,
   "metadata": {},
   "outputs": [],
   "source": []
  },
  {
   "cell_type": "markdown",
   "metadata": {},
   "source": [
    "### Now lets train an MLP with RQR-W loss on this data"
   ]
  },
  {
   "cell_type": "code",
   "execution_count": 5,
   "metadata": {},
   "outputs": [],
   "source": [
    "# train the mlp on this data\n",
    "device = torch.device(\"cuda\" if torch.cuda.is_available() else \"cpu\")\n",
    "input_size = X_train.shape[1]\n",
    "\n",
    "penalty = 1\n",
    "learning_rate = 1e-3 \n",
    "num_epochs = 400\n",
    "dropout = 0.1\n",
    "\n",
    "def train_model(penalty, learning_rate):\n",
    "    coverage = 0.8\n",
    "    hidden_size = 64\n",
    "    output_size = 2\n",
    "    model = MLP(input_size, hidden_size, output_size, dropout).to(device)\n",
    "    criterion = RQRW(coverage, penalty)\n",
    "    optimizer = torch.optim.Adam(model.parameters(), lr=learning_rate)\n",
    "\n",
    "    for epoch in range(num_epochs):\n",
    "        model.train()\n",
    "        for i, (X, y) in enumerate(train_loader):\n",
    "            X = X.to(device)\n",
    "            y = y.to(device)\n",
    "            optimizer.zero_grad()\n",
    "            outputs = model(X)\n",
    "            loss = criterion(outputs, y[:,0])\n",
    "            loss.backward()\n",
    "            optimizer.step()\n",
    "        \n",
    "        \n",
    "    # extract the predictions on the train set\n",
    "    model.eval()\n",
    "    train_preds = []\n",
    "    train_targets = []\n",
    "    for i, (X, y) in enumerate(train_loader_test):\n",
    "        X = X.to(device)\n",
    "        outputs = model(X)\n",
    "        train_preds.append(outputs.cpu().detach().numpy())\n",
    "        train_targets.append(y.cpu().detach().numpy())\n",
    "    return train_preds, train_targets"
   ]
  },
  {
   "cell_type": "code",
   "execution_count": 6,
   "metadata": {},
   "outputs": [],
   "source": [
    "train_preds, train_targets = train_model(penalty=penalty, learning_rate=learning_rate)"
   ]
  },
  {
   "cell_type": "markdown",
   "metadata": {},
   "source": [
    "## and plot results"
   ]
  },
  {
   "cell_type": "code",
   "execution_count": 7,
   "metadata": {},
   "outputs": [
    {
     "data": {
      "image/png": "[encoded data removed]",
      "text/plain": [
       "<Figure size 640x480 with 1 Axes>"
      ]
     },
     "metadata": {},
     "output_type": "display_data"
    }
   ],
   "source": [
    "def plot_results(train_preds, train_targets):\n",
    "    train_preds = np.concatenate(train_preds)\n",
    "    uppers = train_preds.max(1)\n",
    "    lowers = train_preds.min(1)\n",
    "\n",
    "    # sort the train targets and use the same sorting on uppers and lowers\n",
    "    train_targets = np.concatenate(train_targets).flatten()\n",
    "    idx = np.argsort(train_targets)\n",
    "    train_targets = train_targets[idx]\n",
    "    uppers = uppers[idx]\n",
    "    lowers = lowers[idx]\n",
    "    plt.plot(list(range(len(uppers))), uppers, '-', color='red', alpha=0.5, label='upper')\n",
    "    plt.plot(list(range(len(uppers))), lowers, '-', color='green', alpha=0.5, label='lower')\n",
    "    plt.plot(list(range(len(uppers))), train_targets, 'o', label='target')\n",
    "    plt.legend()\n",
    "    plt.show()\n",
    "\n",
    "plot_results(train_preds, train_targets)"
   ]
  },
  {
   "cell_type": "code",
   "execution_count": null,
   "metadata": {},
   "outputs": [],
   "source": []
  }
 ],
 "metadata": {
  "language_info": {
   "name": "python"
  }
 },
 "nbformat": 4,
 "nbformat_minor": 2
}
